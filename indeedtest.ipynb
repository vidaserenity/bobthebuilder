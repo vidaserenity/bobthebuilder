{
 "cells": [
  {
   "cell_type": "code",
   "execution_count": 46,
   "id": "65551ef8",
   "metadata": {},
   "outputs": [],
   "source": [
    "import requests\n",
    "from bs4 import BeautifulSoup\n",
    "import pandas as pd\n",
    "#from selenium import webdriver\n",
    "from selenium import webdriver\n",
    "#import os\n",
    "\n",
    "#op = webdriver.ChromeOptions()\n",
    "#op.binary_location = os.environ.get(\"GOOGLE_CHROME_BIN\")\n",
    "#op.add_argument(\"--headless\")\n",
    "#op.add_argument(\"--no-sandbox\")\n",
    "#op.add_argument(\"--disable-dev-sh-usage\")\n",
    "\n",
    "import time\n",
    "from selenium.webdriver.common.keys import Keys\n",
    "\n",
    "#HEADERS ={\"User-Agent\":\"Mozilla/5.0 (Macintosh; Intel Mac OS X 10_15_7) AppleWebKit/537.36 (KHTML, like Gecko) Chrome/100.0.4896.75 Safari/537.36\", \"Accept-Encoding\":\"gzip, deflate\", \"Accept\":\"text/html,application/xhtml+xml,application/xml;q=0.9,*/*;q=0.8\", \"DNT\":\"1\",\"Connection\":\"close\", \"Upgrade-Insecure-Requests\":\"1\"}"
   ]
  },
  {
   "cell_type": "markdown",
   "id": "102c8aeb",
   "metadata": {},
   "source": [
    "### for heroku\n",
    "\n",
    "import requests\n",
    "from bs4 import BeautifulSoup\n",
    "import pandas as pd\n",
    "from selenium import webdriver\n",
    "import os\n",
    "\n",
    "op = webdriver.ChromeOptions()\n",
    "op.binary_location = os.environ.get(\"GOOGLE_CHROME_BIN\")\n",
    "op.add_argument(\"--headless\")\n",
    "op.add_argument(\"--no-sandbox\")\n",
    "op.add_argument(\"--disable-dev-sh-usage\")\n",
    "\n",
    "import time\n",
    "from selenium.webdriver.common.keys import Keys"
   ]
  },
  {
   "cell_type": "code",
   "execution_count": 4,
   "id": "da796822",
   "metadata": {},
   "outputs": [],
   "source": [
    "# https://www.pycodemates.com/2022/01/Indeed-jobs-scraping-with-python-bs4-selenium-and-pandas.html"
   ]
  },
  {
   "cell_type": "code",
   "execution_count": 11,
   "id": "3c89bddd",
   "metadata": {},
   "outputs": [],
   "source": [
    "def get_test(url, job_title, location):\n",
    "    driver = webdriver.Chrome(\"/Users/dswiss/Desktop/chromedriver\")\n",
    "    ### heroku webdriver\n",
    "    #driver = webdriver.Chrome(executable_path=os.environ.get(\"CHROMEDRIVER_PATH\"), options=op)\n",
    "    driver.get(url)\n",
    "    time.sleep(3)\n",
    "    driver.find_element_by_xpath('//*[@id=\"text-input-what\"]').send_keys(job_title)\n",
    "    time.sleep(3)\n",
    "    locations = driver.find_element_by_xpath('//*[@id=\"text-input-where\"]')\n",
    "    if locations.get_attribute(\"value\") == \"\":\n",
    "        driver.find_element_by_xpath('//*[@id=\"text-input-where\"]').send_keys(location)\n",
    "    time.sleep(3)\n",
    "    driver.find_element_by_xpath('/html/body/div').click()\n",
    "    time.sleep(3)\n",
    "    try:\n",
    "        driver.find_element_by_xpath('//*[@id=\"jobsearch\"]/button').click()\n",
    "    except:\n",
    "        driver.find_element_by_xpath('//*[@id=\"whatWhereFormId\"]/div[3]/button').click()\n",
    "    current_url = driver.current_url\n",
    "    return current_url\n",
    "    \n",
    "current_url = get_test('https://indeed.com/','Data Scientist',\"Los Angeles\")"
   ]
  },
  {
   "cell_type": "code",
   "execution_count": 54,
   "id": "a0218c90",
   "metadata": {},
   "outputs": [],
   "source": [
    "def scrape_job_details(url):\n",
    "    \n",
    "    resp = requests.get(url)\n",
    "    content = BeautifulSoup(resp.content, 'lxml')\n",
    "   \n",
    "    jobs_list = []    \n",
    "    for post in content.select('.job_seen_beacon'):\n",
    "        try:\n",
    "            data = {\n",
    "                \"job_title\":post.select('.jobTitle')[0].get_text().strip(),\n",
    "                \"company\":post.select('.companyName')[0].get_text().strip(),\n",
    "                \"rating\":post.select('.ratingNumber')[0].get_text().strip(),\n",
    "                \"location\":post.select('.companyLocation')[0].get_text().strip(),\n",
    "                \"date\":post.select('.date')[0].get_text().strip(),\n",
    "                \"job_desc\":post.select('.job-snippet')[0].get_text().strip(),\n",
    "                \"job_link\":post.find(class_='jcs-JobTitle', href=True)['href']\n",
    "            }\n",
    "        except IndexError:\n",
    "            continue          \n",
    "        jobs_list.append(data)\n",
    "    dataframe = pd.DataFrame(jobs_list)\n",
    "    dataframe[\"job_link\"] = 'https://www.indeed.com' + dataframe['job_link'].astype(str)\n",
    "     \n",
    "    return dataframe\n",
    "\n",
    "lol = scrape_job_details(current_url)\n",
    "lol[\"date\"] = [x.replace('Posted','') for x in lol[\"date\"]]\n",
    "lol[\"job_title\"] = [x.replace('new', '') for x in lol[\"job_title\"]]"
   ]
  },
  {
   "cell_type": "code",
   "execution_count": 47,
   "id": "78c874ce",
   "metadata": {},
   "outputs": [],
   "source": [
    "user_job = \"Data Science\"\n",
    "user_location = \"New York\"\n",
    "\n",
    "user_job = user_job.replace(\" \", \"%20\")\n",
    "user_location = user_location.replace(\" \", \"%20\")\n",
    "\n",
    "current_url = f\"https://www.indeed.com/jobs?q={user_job}&l={user_location}\""
   ]
  },
  {
   "cell_type": "code",
   "execution_count": 52,
   "id": "e43569e3",
   "metadata": {},
   "outputs": [],
   "source": [
    "current_url = f\"https://www.indeed.com/jobs?q={user_job}&l={user_location}\""
   ]
  },
  {
   "cell_type": "code",
   "execution_count": 53,
   "id": "b513e3ef",
   "metadata": {},
   "outputs": [
    {
     "data": {
      "text/plain": [
       "'https://www.indeed.com/jobs?q=Data%20Science&l=New%20York'"
      ]
     },
     "execution_count": 53,
     "metadata": {},
     "output_type": "execute_result"
    }
   ],
   "source": [
    "current_url"
   ]
  },
  {
   "cell_type": "code",
   "execution_count": 55,
   "id": "0b447bc8",
   "metadata": {},
   "outputs": [
    {
     "data": {
      "text/html": [
       "<div>\n",
       "<style scoped>\n",
       "    .dataframe tbody tr th:only-of-type {\n",
       "        vertical-align: middle;\n",
       "    }\n",
       "\n",
       "    .dataframe tbody tr th {\n",
       "        vertical-align: top;\n",
       "    }\n",
       "\n",
       "    .dataframe thead th {\n",
       "        text-align: right;\n",
       "    }\n",
       "</style>\n",
       "<table border=\"1\" class=\"dataframe\">\n",
       "  <thead>\n",
       "    <tr style=\"text-align: right;\">\n",
       "      <th></th>\n",
       "      <th>job_title</th>\n",
       "      <th>company</th>\n",
       "      <th>rating</th>\n",
       "      <th>location</th>\n",
       "      <th>date</th>\n",
       "      <th>job_desc</th>\n",
       "      <th>job_link</th>\n",
       "    </tr>\n",
       "  </thead>\n",
       "  <tbody>\n",
       "    <tr>\n",
       "      <th>0</th>\n",
       "      <td>Data Scientist, Spotify Advertising</td>\n",
       "      <td>Spotify</td>\n",
       "      <td>4.3</td>\n",
       "      <td>Remote in New York, NY+7 locations</td>\n",
       "      <td>30+ days ago</td>\n",
       "      <td>You have experience in a similar data science ...</td>\n",
       "      <td>https://www.indeed.com/rc/clk?jk=cf1dfad666491...</td>\n",
       "    </tr>\n",
       "    <tr>\n",
       "      <th>1</th>\n",
       "      <td>Data Scientist - Data Science (All Levels)</td>\n",
       "      <td>Datadog</td>\n",
       "      <td>4.0</td>\n",
       "      <td>Hybrid remote in New York, NY+3 locations</td>\n",
       "      <td>26 days ago</td>\n",
       "      <td>You have experience working with data and buil...</td>\n",
       "      <td>https://www.indeed.com/rc/clk?jk=3f72ccd78579c...</td>\n",
       "    </tr>\n",
       "    <tr>\n",
       "      <th>2</th>\n",
       "      <td>Data Scientist</td>\n",
       "      <td>Nike</td>\n",
       "      <td>4.1</td>\n",
       "      <td>New York, NY</td>\n",
       "      <td>6 days ago</td>\n",
       "      <td>Identify meaningful insights from large data a...</td>\n",
       "      <td>https://www.indeed.com/rc/clk?jk=f4f924ccdcaf1...</td>\n",
       "    </tr>\n",
       "    <tr>\n",
       "      <th>3</th>\n",
       "      <td>Data Science Rotation Program Associate</td>\n",
       "      <td>New York Life Insurance Co</td>\n",
       "      <td>3.7</td>\n",
       "      <td>New York, NY+1 location</td>\n",
       "      <td>30+ days ago</td>\n",
       "      <td>You will be inspired to strengthen other criti...</td>\n",
       "      <td>https://www.indeed.com/rc/clk?jk=61c19d3402d03...</td>\n",
       "    </tr>\n",
       "    <tr>\n",
       "      <th>4</th>\n",
       "      <td>Data Scientist</td>\n",
       "      <td>Source Enterprises</td>\n",
       "      <td>4.3</td>\n",
       "      <td>New York, NY 10036 (Midtown area)</td>\n",
       "      <td>30+ days ago</td>\n",
       "      <td>Some knowledge of common data science toolkits...</td>\n",
       "      <td>https://www.indeed.com/rc/clk?jk=1636faa0308fd...</td>\n",
       "    </tr>\n",
       "    <tr>\n",
       "      <th>5</th>\n",
       "      <td>Data Scientist</td>\n",
       "      <td>Signifyd</td>\n",
       "      <td>4.1</td>\n",
       "      <td>Remote in New York, NY</td>\n",
       "      <td>5 days ago</td>\n",
       "      <td>Work with distributed data pipelines.\\nDesign ...</td>\n",
       "      <td>https://www.indeed.com/company/Signifyd/jobs/D...</td>\n",
       "    </tr>\n",
       "    <tr>\n",
       "      <th>6</th>\n",
       "      <td>Data Analyst</td>\n",
       "      <td>DataDog</td>\n",
       "      <td>4.0</td>\n",
       "      <td>New York, NY</td>\n",
       "      <td>28 days ago</td>\n",
       "      <td>Distill that data to concise insights and comm...</td>\n",
       "      <td>https://www.indeed.com/rc/clk?jk=51494a0a3e768...</td>\n",
       "    </tr>\n",
       "    <tr>\n",
       "      <th>7</th>\n",
       "      <td>Data Scientist - Analytics</td>\n",
       "      <td>Twitch</td>\n",
       "      <td>4.4</td>\n",
       "      <td>Remote in New York, NY 10011</td>\n",
       "      <td>30+ days ago</td>\n",
       "      <td>5+ years of experience as a data scientist or ...</td>\n",
       "      <td>https://www.indeed.com/rc/clk?jk=437bdb20ea775...</td>\n",
       "    </tr>\n",
       "    <tr>\n",
       "      <th>8</th>\n",
       "      <td>Head of Advertising &amp; Marketing - Data Science</td>\n",
       "      <td>Amazon Web Services, Inc.</td>\n",
       "      <td>3.5</td>\n",
       "      <td>New York, NY+1 location</td>\n",
       "      <td>30+ days ago</td>\n",
       "      <td>Experience with applying CI/CD principles to d...</td>\n",
       "      <td>https://www.indeed.com/rc/clk?jk=6d1ef76bf3b23...</td>\n",
       "    </tr>\n",
       "  </tbody>\n",
       "</table>\n",
       "</div>"
      ],
      "text/plain": [
       "                                        job_title                     company  \\\n",
       "0             Data Scientist, Spotify Advertising                     Spotify   \n",
       "1      Data Scientist - Data Science (All Levels)                     Datadog   \n",
       "2                                  Data Scientist                        Nike   \n",
       "3         Data Science Rotation Program Associate  New York Life Insurance Co   \n",
       "4                                  Data Scientist          Source Enterprises   \n",
       "5                                  Data Scientist                    Signifyd   \n",
       "6                                    Data Analyst                     DataDog   \n",
       "7                      Data Scientist - Analytics                      Twitch   \n",
       "8  Head of Advertising & Marketing - Data Science   Amazon Web Services, Inc.   \n",
       "\n",
       "  rating                                   location          date  \\\n",
       "0    4.3         Remote in New York, NY+7 locations  30+ days ago   \n",
       "1    4.0  Hybrid remote in New York, NY+3 locations   26 days ago   \n",
       "2    4.1                               New York, NY    6 days ago   \n",
       "3    3.7                    New York, NY+1 location  30+ days ago   \n",
       "4    4.3          New York, NY 10036 (Midtown area)  30+ days ago   \n",
       "5    4.1                     Remote in New York, NY    5 days ago   \n",
       "6    4.0                               New York, NY   28 days ago   \n",
       "7    4.4               Remote in New York, NY 10011  30+ days ago   \n",
       "8    3.5                    New York, NY+1 location  30+ days ago   \n",
       "\n",
       "                                            job_desc  \\\n",
       "0  You have experience in a similar data science ...   \n",
       "1  You have experience working with data and buil...   \n",
       "2  Identify meaningful insights from large data a...   \n",
       "3  You will be inspired to strengthen other criti...   \n",
       "4  Some knowledge of common data science toolkits...   \n",
       "5  Work with distributed data pipelines.\\nDesign ...   \n",
       "6  Distill that data to concise insights and comm...   \n",
       "7  5+ years of experience as a data scientist or ...   \n",
       "8  Experience with applying CI/CD principles to d...   \n",
       "\n",
       "                                            job_link  \n",
       "0  https://www.indeed.com/rc/clk?jk=cf1dfad666491...  \n",
       "1  https://www.indeed.com/rc/clk?jk=3f72ccd78579c...  \n",
       "2  https://www.indeed.com/rc/clk?jk=f4f924ccdcaf1...  \n",
       "3  https://www.indeed.com/rc/clk?jk=61c19d3402d03...  \n",
       "4  https://www.indeed.com/rc/clk?jk=1636faa0308fd...  \n",
       "5  https://www.indeed.com/company/Signifyd/jobs/D...  \n",
       "6  https://www.indeed.com/rc/clk?jk=51494a0a3e768...  \n",
       "7  https://www.indeed.com/rc/clk?jk=437bdb20ea775...  \n",
       "8  https://www.indeed.com/rc/clk?jk=6d1ef76bf3b23...  "
      ]
     },
     "execution_count": 55,
     "metadata": {},
     "output_type": "execute_result"
    }
   ],
   "source": [
    "lol"
   ]
  },
  {
   "cell_type": "code",
   "execution_count": 14,
   "id": "9b1fb3e6",
   "metadata": {
    "scrolled": true
   },
   "outputs": [
    {
     "data": {
      "text/plain": [
       "'https://www.indeed.com/rc/clk?jk=ba6f99e6f2792075&fccid=f2d0ffe36bb2f0f4&vjs=3'"
      ]
     },
     "execution_count": 14,
     "metadata": {},
     "output_type": "execute_result"
    }
   ],
   "source": [
    "lol.iloc[6][\"job_link\"]"
   ]
  },
  {
   "cell_type": "code",
   "execution_count": 57,
   "id": "1c3e4374",
   "metadata": {},
   "outputs": [],
   "source": [
    "table = lol.to_html()"
   ]
  },
  {
   "cell_type": "code",
   "execution_count": 58,
   "id": "f65f5bb0",
   "metadata": {},
   "outputs": [],
   "source": [
    "table = table.replace(\"\\n\", \"\")"
   ]
  },
  {
   "cell_type": "code",
   "execution_count": 59,
   "id": "828b5ef6",
   "metadata": {},
   "outputs": [
    {
     "data": {
      "text/plain": [
       "'<table border=\"1\" class=\"dataframe\">  <thead>    <tr style=\"text-align: right;\">      <th></th>      <th>job_title</th>      <th>company</th>      <th>rating</th>      <th>location</th>      <th>date</th>      <th>job_desc</th>      <th>job_link</th>    </tr>  </thead>  <tbody>    <tr>      <th>0</th>      <td>Data Scientist, Spotify Advertising</td>      <td>Spotify</td>      <td>4.3</td>      <td>Remote in New York, NY+7 locations</td>      <td>30+ days ago</td>      <td>You have experience in a similar data science role and a degree in science, computer science, statistics, economics, mathematics, or similar quantitative…</td>      <td>https://www.indeed.com/rc/clk?jk=cf1dfad66649138a&amp;fccid=fe404d18bb9eef1e&amp;vjs=3</td>    </tr>    <tr>      <th>1</th>      <td>Data Scientist - Data Science (All Levels)</td>      <td>Datadog</td>      <td>4.0</td>      <td>Hybrid remote in New York, NY+3 locations</td>      <td>26 days ago</td>      <td>You have experience working with data and building models, and applying machine learning to real business problems.</td>      <td>https://www.indeed.com/rc/clk?jk=3f72ccd78579cf4c&amp;fccid=448951d0ddf03e0c&amp;vjs=3</td>    </tr>    <tr>      <th>2</th>      <td>Data Scientist</td>      <td>Nike</td>      <td>4.1</td>      <td>New York, NY</td>      <td>6 days ago</td>      <td>Identify meaningful insights from large data and metadata sources.\\\\nUse best practices and data of internal or external business issues to improve products or…</td>      <td>https://www.indeed.com/rc/clk?jk=f4f924ccdcaf1822&amp;fccid=2c62e4de04b8f952&amp;vjs=3</td>    </tr>    <tr>      <th>3</th>      <td>Data Science Rotation Program Associate</td>      <td>New York Life Insurance Co</td>      <td>3.7</td>      <td>New York, NY+1 location</td>      <td>30+ days ago</td>      <td>You will be inspired to strengthen other critical components of being an effective data scientist ranging from soft skills (concisely presenting a data story,…</td>      <td>https://www.indeed.com/rc/clk?jk=61c19d3402d0300b&amp;fccid=f0595ebb13247329&amp;vjs=3</td>    </tr>    <tr>      <th>4</th>      <td>Data Scientist</td>      <td>Source Enterprises</td>      <td>4.3</td>      <td>New York, NY 10036 (Midtown area)</td>      <td>30+ days ago</td>      <td>Some knowledge of common data science toolkits, such as R, Weka, NumPy, MatLab, etc.\\\\nStay current on modern trends and advances in data mining technology.</td>      <td>https://www.indeed.com/rc/clk?jk=1636faa0308fd08f&amp;fccid=1577085fc2290983&amp;vjs=3</td>    </tr>    <tr>      <th>5</th>      <td>Data Scientist</td>      <td>Signifyd</td>      <td>4.1</td>      <td>Remote in New York, NY</td>      <td>5 days ago</td>      <td>Work with distributed data pipelines.\\\\nDesign experiments and collect data.\\\\nA degree in computer science or a comparable analytical field.</td>      <td>https://www.indeed.com/company/Signifyd/jobs/Data-Scientist-3f1cb623a08c6497?fccid=fb39f30bde31b5f4&amp;vjs=3</td>    </tr>    <tr>      <th>6</th>      <td>Data Analyst</td>      <td>DataDog</td>      <td>4.0</td>      <td>New York, NY</td>      <td>28 days ago</td>      <td>Distill that data to concise insights and communicate the findings to Product, Engineering, Design, Marketing, and Community to help them tell a data-driven…</td>      <td>https://www.indeed.com/rc/clk?jk=51494a0a3e768b07&amp;fccid=448951d0ddf03e0c&amp;vjs=3</td>    </tr>    <tr>      <th>7</th>      <td>Data Scientist - Analytics</td>      <td>Twitch</td>      <td>4.4</td>      <td>Remote in New York, NY 10011</td>      <td>30+ days ago</td>      <td>5+ years of experience as a data scientist or data analyst in a high-velocity environment.\\\\nExperience building aggregates and optimizing data workstreams.</td>      <td>https://www.indeed.com/rc/clk?jk=437bdb20ea775bcd&amp;fccid=e21f6affbb4bb0b2&amp;vjs=3</td>    </tr>    <tr>      <th>8</th>      <td>Head of Advertising &amp; Marketing - Data Science</td>      <td>Amazon Web Services, Inc.</td>      <td>3.5</td>      <td>New York, NY+1 location</td>      <td>30+ days ago</td>      <td>Experience with applying CI/CD principles to data science projects.\\\\n3 years delivering data science / machine learning solutions in a cloud environment.</td>      <td>https://www.indeed.com/rc/clk?jk=6d1ef76bf3b236f6&amp;fccid=5cc0cdc6dbb121cc&amp;vjs=3</td>    </tr>  </tbody></table>'"
      ]
     },
     "execution_count": 59,
     "metadata": {},
     "output_type": "execute_result"
    }
   ],
   "source": [
    "table"
   ]
  },
  {
   "cell_type": "code",
   "execution_count": 15,
   "id": "6e8e693f",
   "metadata": {},
   "outputs": [
    {
     "ename": "NameError",
     "evalue": "name 'chrome' is not defined",
     "output_type": "error",
     "traceback": [
      "\u001b[0;31m---------------------------------------------------------------------------\u001b[0m",
      "\u001b[0;31mNameError\u001b[0m                                 Traceback (most recent call last)",
      "Input \u001b[0;32mIn [15]\u001b[0m, in \u001b[0;36m<cell line: 1>\u001b[0;34m()\u001b[0m\n\u001b[0;32m----> 1\u001b[0m \u001b[38;5;28mprint\u001b[39m(\u001b[43mchrome\u001b[49m\u001b[38;5;241m.\u001b[39moptions)\n",
      "\u001b[0;31mNameError\u001b[0m: name 'chrome' is not defined"
     ]
    }
   ],
   "source": [
    "print(chrome.options)"
   ]
  }
 ],
 "metadata": {
  "kernelspec": {
   "display_name": "Python 3 (ipykernel)",
   "language": "python",
   "name": "python3"
  },
  "language_info": {
   "codemirror_mode": {
    "name": "ipython",
    "version": 3
   },
   "file_extension": ".py",
   "mimetype": "text/x-python",
   "name": "python",
   "nbconvert_exporter": "python",
   "pygments_lexer": "ipython3",
   "version": "3.9.11"
  }
 },
 "nbformat": 4,
 "nbformat_minor": 5
}
