{
 "cells": [
  {
   "cell_type": "code",
   "execution_count": 46,
   "id": "65551ef8",
   "metadata": {},
   "outputs": [],
   "source": [
    "import requests\n",
    "from bs4 import BeautifulSoup\n",
    "import pandas as pd\n",
    "from selenium import webdriver #not used\n",
    "\n",
    "import time #not used\n",
    "from selenium.webdriver.common.keys import Keys #not used\n",
    "\n",
    "###### FOR HEROKU\n",
    "#import os\n",
    "#op = webdriver.ChromeOptions()\n",
    "#op.binary_location = os.environ.get(\"GOOGLE_CHROME_BIN\")\n",
    "#op.add_argument(\"--headless\")\n",
    "#op.add_argument(\"--no-sandbox\")\n",
    "#op.add_argument(\"--disable-dev-sh-usage\")\n",
    "#HEADERS ={\"User-Agent\":\"Mozilla/5.0 (Macintosh; Intel Mac OS X 10_15_7) AppleWebKit/537.36 (KHTML, like Gecko) Chrome/100.0.4896.75 Safari/537.36\", \"Accept-Encoding\":\"gzip, deflate\", \"Accept\":\"text/html,application/xhtml+xml,application/xml;q=0.9,*/*;q=0.8\", \"DNT\":\"1\",\"Connection\":\"close\", \"Upgrade-Insecure-Requests\":\"1\"}"
   ]
  },
  {
   "cell_type": "code",
   "execution_count": 11,
   "id": "3c89bddd",
   "metadata": {},
   "outputs": [],
   "source": [
    "def get_test(url, job_title, location):\n",
    "    driver = webdriver.Chrome(\"/Users/dswiss/Desktop/chromedriver\")\n",
    "    ### heroku webdriver\n",
    "    #driver = webdriver.Chrome(executable_path=os.environ.get(\"CHROMEDRIVER_PATH\"), options=op)\n",
    "    driver.get(url)\n",
    "    time.sleep(3)\n",
    "    driver.find_element_by_xpath('//*[@id=\"text-input-what\"]').send_keys(job_title)\n",
    "    time.sleep(3)\n",
    "    locations = driver.find_element_by_xpath('//*[@id=\"text-input-where\"]')\n",
    "    if locations.get_attribute(\"value\") == \"\":\n",
    "        driver.find_element_by_xpath('//*[@id=\"text-input-where\"]').send_keys(location)\n",
    "    time.sleep(3)\n",
    "    driver.find_element_by_xpath('/html/body/div').click()\n",
    "    time.sleep(3)\n",
    "    try:\n",
    "        driver.find_element_by_xpath('//*[@id=\"jobsearch\"]/button').click()\n",
    "    except:\n",
    "        driver.find_element_by_xpath('//*[@id=\"whatWhereFormId\"]/div[3]/button').click()\n",
    "    current_url = driver.current_url\n",
    "    return current_url\n",
    "    \n",
    "current_url = get_test('https://indeed.com/','Data Scientist',\"Los Angeles\")"
   ]
  },
  {
   "cell_type": "code",
   "execution_count": 65,
   "id": "a0218c90",
   "metadata": {},
   "outputs": [],
   "source": [
    "def scrape_job_details(url):\n",
    "    \n",
    "    resp = requests.get(url)\n",
    "    content = BeautifulSoup(resp.content, 'lxml')\n",
    "   \n",
    "    jobs_list = []    \n",
    "    for post in content.select('.job_seen_beacon'):\n",
    "        try:\n",
    "            data = {\n",
    "                \"job_title\":post.select('.jobTitle')[0].get_text().strip(),\n",
    "                \"company\":post.select('.companyName')[0].get_text().strip(),\n",
    "                \"rating\":post.select('.ratingNumber')[0].get_text().strip(),\n",
    "                \"location\":post.select('.companyLocation')[0].get_text().strip(),\n",
    "                \"date\":post.select('.date')[0].get_text().strip(),\n",
    "                \"job_desc\":post.select('.job-snippet')[0].get_text().strip(),\n",
    "                \"job_link\":post.find(class_='jcs-JobTitle', href=True)['href']\n",
    "            }\n",
    "        except IndexError:\n",
    "            continue          \n",
    "        jobs_list.append(data)\n",
    "    dataframe = pd.DataFrame(jobs_list)\n",
    "    dataframe[\"job_link\"] = 'https://www.indeed.com' + dataframe['job_link'].astype(str)\n",
    "     \n",
    "    return dataframe\n",
    "\n",
    "df = scrape_job_details(current_url)\n",
    "df[\"date\"] = [x.replace('Posted','') for x in df[\"date\"]]\n",
    "df[\"job_title\"] = [x.replace('new', '') for x in df[\"job_title\"]]"
   ]
  },
  {
   "cell_type": "code",
   "execution_count": 67,
   "id": "64d4aa89",
   "metadata": {},
   "outputs": [
    {
     "data": {
      "text/plain": [
       "[<div class=\"job_seen_beacon\"><table cellpadding=\"0\" cellspacing=\"0\" class=\"jobCard_mainContent big6_visualChanges\" role=\"presentation\"><tbody><tr><td class=\"resultContent\"><div class=\"heading4 color-text-primary singleLineTitle tapItem-gutter\"><h2 class=\"jobTitle jobTitle-color-purple jobTitle-newJob\" tabindex=\"-1\"><div class=\"new topLeft holisticNewBlue desktop\"><span class=\"label\">new</span></div><a aria-label=\"full details of Senior Data Science Manager - Jobseeker Discovery &amp; Communic...\" class=\"jcs-JobTitle\" data-ci=\"383080872\" data-empn=\"9767451333976163\" data-hide-spinner=\"true\" data-hiring-event=\"false\" data-jk=\"5aa51ec592b942da\" data-mobtk=\"1g50td1ggj5le800\" href=\"/pagead/clk?mo=r&amp;ad=-6NYlbfkN0CiRNM7CVr8YueLFKlzwbFWI0o7IjV438l4sVrvKZ0flpURU_mqoI8E-VxPfg2eTCH8IGCEHSQlfNSAvIB_2NPat3Ixrj0z_JOqgSnnsyWM1iW0IslGNMGFhhySqQ9j86Z2BPOEg7QcrzFIyduuGKZ94hdLLX-SJ1Vbzl7Z7NBAowwOI5YWEXIQ9xx3NP6w0eB0bXSF6P_CtypLLr0hYTzoWEB6yN_6RszYXhEifuS_5T_ngQVDXD73Sc8uvjYbaa2p-ftj8gsJUpOstjieeEJEeEnRHuQvS7jef46tMb8AP14A-MZe6lf8LNUQkUYqod7BnZakRCoBboKpeNB7OjtPgVlZIedSn2ol-jmvtWox2nhjXYWwNv88YRRzeOHfYtXCvTSjLypeuOUS9U0sywSrbpK0nRxy4KJyUe1NajLLj8KSR8qr1rDhjcKFsv1ioWebZUcJCKuZ8vg8vTZnXrrYyVpCrqj2hhgXMSBSq4nyWdEB4qH06hUQk0qTN891ieFyIGAKL_JX1rqglNlEw5vbRV2l0BeTyOuwDt4KYiAaDQ==&amp;p=0&amp;fvj=0&amp;vjs=3\" id=\"sj_5aa51ec592b942da\" role=\"button\" target=\"_blank\"><span id=\"jobTitle-5aa51ec592b942da\" title=\"Senior Data Science Manager - Jobseeker Discovery &amp; Communication\">Senior Data Science Manager - Jobseeker Discovery &amp; Communic...</span></a></h2></div><div class=\"heading6 company_location tapItem-gutter companyInfo\"><span class=\"companyName\"><a class=\"turnstileLink companyOverviewLink\" data-tn-element=\"companyName\" href=\"/cmp/Indeed\" rel=\"noopener\" target=\"_blank\">Indeed</a></span><span class=\"ratingsDisplay withRatingLink\"><a aria-label=\"Company rating 4.3 out of 5 stars\" class=\"ratingLink\" data-tn-variant=\"cmplinktst2\" href=\"/cmp/Indeed/reviews\" rel=\"noopener\" target=\"_blank\" title=\"Indeed reviews\"><span aria-label=\"4.3 out of five stars rating\" class=\"ratingNumber\" role=\"img\"><span aria-hidden=\"true\">4.3</span><svg aria-hidden=\"true\" class=\"starIcon\" fill=\"none\" height=\"12\" role=\"presentation\" viewbox=\"0 0 16 16\" width=\"12\" xmlns=\"http://www.w3.org/2000/svg\"><path d=\"M8 12.8709L12.4542 15.5593C12.7807 15.7563 13.1835 15.4636 13.0968 15.0922L11.9148 10.0254L15.8505 6.61581C16.1388 6.36608 15.9847 5.89257 15.6047 5.86033L10.423 5.42072L8.39696 0.640342C8.24839 0.289808 7.7516 0.289808 7.60303 0.640341L5.57696 5.42072L0.395297 5.86033C0.015274 5.89257 -0.13882 6.36608 0.149443 6.61581L4.0852 10.0254L2.90318 15.0922C2.81653 15.4636 3.21932 15.7563 3.54584 15.5593L8 12.8709Z\" fill=\"#767676\"></path></svg></span></a></span><div class=\"companyLocation\">Remote in New York, NY 10036<span class=\"more_loc_container\"><a aria-label=\"Same Senior Data Science Manager - Jobseeker Discovery &amp; Communic... job in 1 other location\" class=\"more_loc\" href=\"/addlLoc/redirect?tk=1g50td1ggj5le800&amp;jk=5aa51ec592b942da&amp;dest=%2Fjobs%3Fq%3DData%2BScience%26l%3DNew%2BYork%26grpKey%3D8gcGdG5mdGNsuA%252F2iAOqEBsKCW5vcm10aXRsZRoOZGF0YSBzY2llbnRpc3Q%253D\" rel=\"nofollow\">+1 location</a></span></div></div><div class=\"heading6 tapItem-gutter metadataContainer noJEMChips salaryOnly\"><div class=\"metadata salary-snippet-container\"><div class=\"attribute_snippet\"><svg aria-hidden=\"true\" aria-label=\"Salary\" fill=\"none\" role=\"presentation\" viewbox=\"0 0 16 13\" xmlns=\"http://www.w3.org/2000/svg\"><defs></defs><path clip-rule=\"evenodd\" d=\"M2.45168 6.10292c-.30177-.125-.62509-.18964-.95168-.1903V4.08678c.32693-.00053.6506-.06518.95267-.1903.30331-.12564.57891-.30979.81105-.54193.23215-.23215.4163-.50775.54194-.81106.12524-.30237.18989-.62638.19029-.95365H9.0902c0 .3283.06466.65339.1903.9567.12564.30331.30978.57891.54193.81106.23217.23215.50777.41629.81107.54193.3032.12558.6281.19024.9562.1903v1.83556c-.3242.00155-.6451.06616-.9448.19028-.3033.12563-.5789.30978-.81102.54193-.23215.23214-.4163.50774-.54193.81106-.12332.2977-.18789.61638-.19024.93849H3.99496c-.00071-.32645-.06535-.64961-.19029-.95124-.12564-.30332-.30979-.57891-.54193-.81106-.23215-.23215-.50775-.4163-.81106-.54193zM0 .589843C0 .313701.223858.0898438.5.0898438h12.0897c.2762 0 .5.2238572.5.5000002V9.40715c0 .27614-.2238.5-.5.5H.5c-.276143 0-.5-.22386-.5-.5V.589843zM6.54427 6.99849c1.10457 0 2-.89543 2-2s-.89543-2-2-2-2 .89543-2 2 .89543 2 2 2zm8.05523-2.69917v7.10958H2.75977c-.27615 0-.5.2238-.5.5v.5c0 .2761.22385.5.5.5H15.422c.4419 0 .6775-.2211.6775-.6629V4.29932c0-.27615-.2239-.5-.5-.5h-.5c-.2761 0-.5.22385-.5.5z\" fill=\"#595959\" fill-rule=\"evenodd\"></path></svg>$198,000 - $288,000 a year</div></div><div class=\"metadata\"><div class=\"attribute_snippet\"><svg aria-hidden=\"true\" aria-label=\"Job type\" fill=\"none\" height=\"13\" role=\"presentation\" viewbox=\"0 0 14 13\" width=\"14\" xmlns=\"http://www.w3.org/2000/svg\"><path clip-rule=\"evenodd\" d=\"M4.50226.5c-.27614 0-.5.223858-.5.5v2.1H.5c-.276142 0-.5.22386-.5.5v1.9h14V3.6c0-.27614-.2239-.5-.5-.5h-3.4977V1c0-.276142-.22389-.5-.50004-.5h-5Zm4.19962 2.6H5.30344V1.8h3.39844v1.3Z\" fill=\"#595959\" fill-rule=\"evenodd\"></path><path d=\"M5.70117 6.80005H0v5.20005c0 .2761.223857.5.5.5h13c.2761 0 .5-.2239.5-.5V6.80005H8.30117v.80322c0 .27614-.22386.5-.5.5h-1.6c-.27614 0-.5-.22386-.5-.5v-.80322Z\" fill=\"#595959\"></path></svg>Full-time</div></div></div><div class=\"heading6 error-text tapItem-gutter\"></div></td></tr></tbody></table><table class=\"jobCardShelfContainer big6_visualChanges\" role=\"presentation\"><tbody><tr class=\"jobCardShelf\"><td class=\"shelfItem indeedApply\"><span class=\"iaIcon\"></span><span class=\"ialbl iaTextBlack\">Easily apply</span></td></tr><tr class=\"underShelfFooter\"><td><div class=\"heading6 tapItem-gutter result-footer\"><div class=\"job-snippet\"><ul style=\"list-style-type:circle;margin-top: 0px;margin-bottom: 0px;padding-left:20px;\">\n",
       " <li style=\"margin-bottom:0px;\">Passion to answer Product/Engineering questions with data.</li>\n",
       " <li style=\"margin-bottom:0px;\">Can fish for <b>data</b>: SQL, Pandas, MongoDB.</li>\n",
       " <li>Can do big <b>data</b> modeling work: Hadoop, Pig, Scala, Spark.</li>\n",
       " </ul></div><span class=\"date\"><span class=\"visually-hidden\">Posted</span>Today</span></div></td></tr></tbody></table><div aria-live=\"polite\"></div></div>,\n",
       " <div class=\"job_seen_beacon\"><table cellpadding=\"0\" cellspacing=\"0\" class=\"jobCard_mainContent big6_visualChanges\" role=\"presentation\"><tbody><tr><td class=\"resultContent\"><div class=\"heading4 color-text-primary singleLineTitle tapItem-gutter\"><h2 class=\"jobTitle jobTitle-color-purple\" tabindex=\"-1\"><a aria-label=\"full details of Data Scientist, Spotify Advertising\" class=\"jcs-JobTitle\" data-hide-spinner=\"true\" data-hiring-event=\"false\" data-jk=\"cf1dfad66649138a\" data-mobtk=\"1g50td1ggj5le800\" href=\"/rc/clk?jk=cf1dfad66649138a&amp;fccid=fe404d18bb9eef1e&amp;vjs=3\" id=\"job_cf1dfad66649138a\" role=\"button\" target=\"_blank\"><span id=\"jobTitle-cf1dfad66649138a\" title=\"Data Scientist, Spotify Advertising\">Data Scientist, Spotify Advertising</span></a></h2></div><div class=\"heading6 company_location tapItem-gutter companyInfo\"><span class=\"companyName\"><a class=\"turnstileLink companyOverviewLink\" data-tn-element=\"companyName\" href=\"/cmp/Spotify\" rel=\"noopener\" target=\"_blank\">Spotify</a></span><span class=\"ratingsDisplay withRatingLink\"><a aria-label=\"Company rating 4.3 out of 5 stars\" class=\"ratingLink\" data-tn-variant=\"cmplinktst2\" href=\"/cmp/Spotify/reviews\" rel=\"noopener\" target=\"_blank\" title=\"Spotify reviews\"><span aria-label=\"4.3 out of five stars rating\" class=\"ratingNumber\" role=\"img\"><span aria-hidden=\"true\">4.3</span><svg aria-hidden=\"true\" class=\"starIcon\" fill=\"none\" height=\"12\" role=\"presentation\" viewbox=\"0 0 16 16\" width=\"12\" xmlns=\"http://www.w3.org/2000/svg\"><path d=\"M8 12.8709L12.4542 15.5593C12.7807 15.7563 13.1835 15.4636 13.0968 15.0922L11.9148 10.0254L15.8505 6.61581C16.1388 6.36608 15.9847 5.89257 15.6047 5.86033L10.423 5.42072L8.39696 0.640342C8.24839 0.289808 7.7516 0.289808 7.60303 0.640341L5.57696 5.42072L0.395297 5.86033C0.015274 5.89257 -0.13882 6.36608 0.149443 6.61581L4.0852 10.0254L2.90318 15.0922C2.81653 15.4636 3.21932 15.7563 3.54584 15.5593L8 12.8709Z\" fill=\"#767676\"></path></svg></span></a></span><div class=\"companyLocation\">Remote in New York, NY<span class=\"more_loc_container\"><a aria-label=\"Same Data Scientist, Spotify Advertising job in 7 other locations\" class=\"more_loc\" href=\"/addlLoc/redirect?tk=1g50td1ggj5le800&amp;jk=cf1dfad66649138a&amp;dest=%2Fjobs%3Fq%3DData%2BScience%26l%3DNew%2BYork%26grpKey%3D8gcGdG5mdGNsuA%252Bu8nqqEBsKCW5vcm10aXRsZRoOZGF0YSBzY2llbnRpc3Q%253D\" rel=\"nofollow\">+7 locations</a></span></div></div><div class=\"heading6 tapItem-gutter metadataContainer noJEMChips salaryOnly\"><div class=\"metadata estimated-salary-container\"><span class=\"estimated-salary\"><svg aria-hidden=\"true\" aria-label=\"Estimated $113K to $143K a year\" fill=\"none\" role=\"presentation\" viewbox=\"0 0 16 13\" xmlns=\"http://www.w3.org/2000/svg\"><defs></defs><path clip-rule=\"evenodd\" d=\"M2.45168 6.10292c-.30177-.125-.62509-.18964-.95168-.1903V4.08678c.32693-.00053.6506-.06518.95267-.1903.30331-.12564.57891-.30979.81105-.54193.23215-.23215.4163-.50775.54194-.81106.12524-.30237.18989-.62638.19029-.95365H9.0902c0 .3283.06466.65339.1903.9567.12564.30331.30978.57891.54193.81106.23217.23215.50777.41629.81107.54193.3032.12558.6281.19024.9562.1903v1.83556c-.3242.00155-.6451.06616-.9448.19028-.3033.12563-.5789.30978-.81102.54193-.23215.23214-.4163.50774-.54193.81106-.12332.2977-.18789.61638-.19024.93849H3.99496c-.00071-.32645-.06535-.64961-.19029-.95124-.12564-.30332-.30979-.57891-.54193-.81106-.23215-.23215-.50775-.4163-.81106-.54193zM0 .589843C0 .313701.223858.0898438.5.0898438h12.0897c.2762 0 .5.2238572.5.5000002V9.40715c0 .27614-.2238.5-.5.5H.5c-.276143 0-.5-.22386-.5-.5V.589843zM6.54427 6.99849c1.10457 0 2-.89543 2-2s-.89543-2-2-2-2 .89543-2 2 .89543 2 2 2zm8.05523-2.69917v7.10958H2.75977c-.27615 0-.5.2238-.5.5v.5c0 .2761.22385.5.5.5H15.422c.4419 0 .6775-.2211.6775-.6629V4.29932c0-.27615-.2239-.5-.5-.5h-.5c-.2761 0-.5.22385-.5.5z\" fill=\"#595959\" fill-rule=\"evenodd\"></path></svg><span>Estimated $113K - $143K a year</span><button aria-haspopup=\"true\" aria-label=\"About Indeed's estimated salaries\" class=\"estimated-salary-legal-disclaimer-button\" type=\"button\"><img alt=\"\" aria-hidden=\"true\" class=\"estimated-salary-legal-disclaimer-icon\" src=\"https://c03.s3.indeed.com/mosaic-provider-jobcards/dist/images/src/components/JobMetaData/EstimatedSalary/QuestionCircle-901519.svg\"/></button></span></div></div><div class=\"heading6 error-text tapItem-gutter\"></div></td></tr></tbody></table><table class=\"jobCardShelfContainer big6_visualChanges\" role=\"presentation\"><tbody><tr class=\"jobCardShelf\"></tr><tr class=\"underShelfFooter\"><td><div class=\"heading6 tapItem-gutter result-footer\"><div class=\"job-snippet\"><ul style=\"list-style-type:circle;margin-top: 0px;margin-bottom: 0px;padding-left:20px;\">\n",
       " <li>You have experience in a similar <b>data</b> <b>science</b> role and a degree in <b>science</b>, computer <b>science</b>, statistics, economics, mathematics, or similar quantitative…</li>\n",
       " </ul></div><span class=\"date\"><span class=\"visually-hidden\">Posted</span>30+ days ago</span><span class=\"result-link-bar-separator\">·</span><button aria-expanded=\"false\" class=\"sl resultLink more_links_button\" type=\"button\">More...</button></div><div class=\"tab-container\"><div class=\"more-links-container result-tab\"><div class=\"more_links\"><button aria-label=\"Close\" class=\"close-button\" title=\"Close\" type=\"button\"></button><ul><li><span class=\"mat\">View all <a href=\"/q-Spotify-l-New-York,-NY-jobs.html\">Spotify jobs in New York, NY</a> - <a href=\"/l-New-York,-NY-jobs.html\">New York jobs</a></span></li><li><span class=\"mat\">Salary Search: <a href=\"/career/data-scientist/salaries/New-York--NY?campaignid=serp-more&amp;fromjk=cf1dfad66649138a&amp;from=serp-more\">Data Scientist, Spotify Advertising salaries in New York, NY</a></span></li><li><span class=\"mat\">See popular <a href=\"/cmp/Spotify/faq\">questions &amp; answers about Spotify</a></span></li></ul></div></div></div></td></tr></tbody></table><div aria-live=\"polite\"></div></div>,\n",
       " <div class=\"job_seen_beacon\"><table cellpadding=\"0\" cellspacing=\"0\" class=\"jobCard_mainContent big6_visualChanges\" role=\"presentation\"><tbody><tr><td class=\"resultContent\"><div class=\"heading4 color-text-primary singleLineTitle tapItem-gutter\"><h2 class=\"jobTitle jobTitle-color-purple\" tabindex=\"-1\"><a aria-label=\"full details of Data Scientist - Data Science (All Levels)\" class=\"jcs-JobTitle\" data-hide-spinner=\"true\" data-hiring-event=\"false\" data-jk=\"3f72ccd78579cf4c\" data-mobtk=\"1g50td1ggj5le800\" href=\"/rc/clk?jk=3f72ccd78579cf4c&amp;fccid=448951d0ddf03e0c&amp;vjs=3\" id=\"job_3f72ccd78579cf4c\" role=\"button\" target=\"_blank\"><span id=\"jobTitle-3f72ccd78579cf4c\" title=\"Data Scientist - Data Science (All Levels)\">Data Scientist - Data Science (All Levels)</span></a></h2></div><div class=\"heading6 company_location tapItem-gutter companyInfo\"><span class=\"companyName\"><a class=\"turnstileLink companyOverviewLink\" data-tn-element=\"companyName\" href=\"/cmp/Datadog\" rel=\"noopener\" target=\"_blank\">Datadog</a></span><span class=\"ratingsDisplay withRatingLink\"><a aria-label=\"Company rating 4 out of 5 stars\" class=\"ratingLink\" data-tn-variant=\"cmplinktst2\" href=\"/cmp/Datadog/reviews\" rel=\"noopener\" target=\"_blank\" title=\"Datadog reviews\"><span aria-label=\"4.0 out of five stars rating\" class=\"ratingNumber\" role=\"img\"><span aria-hidden=\"true\">4.0</span><svg aria-hidden=\"true\" class=\"starIcon\" fill=\"none\" height=\"12\" role=\"presentation\" viewbox=\"0 0 16 16\" width=\"12\" xmlns=\"http://www.w3.org/2000/svg\"><path d=\"M8 12.8709L12.4542 15.5593C12.7807 15.7563 13.1835 15.4636 13.0968 15.0922L11.9148 10.0254L15.8505 6.61581C16.1388 6.36608 15.9847 5.89257 15.6047 5.86033L10.423 5.42072L8.39696 0.640342C8.24839 0.289808 7.7516 0.289808 7.60303 0.640341L5.57696 5.42072L0.395297 5.86033C0.015274 5.89257 -0.13882 6.36608 0.149443 6.61581L4.0852 10.0254L2.90318 15.0922C2.81653 15.4636 3.21932 15.7563 3.54584 15.5593L8 12.8709Z\" fill=\"#767676\"></path></svg></span></a></span><div class=\"companyLocation\">Hybrid remote in New York, NY<span class=\"more_loc_container\"><a aria-label=\"Same Data Scientist - Data Science (All Levels) job in 3 other locations\" class=\"more_loc\" href=\"/addlLoc/redirect?tk=1g50td1ggj5le800&amp;jk=3f72ccd78579cf4c&amp;dest=%2Fjobs%3Fq%3DData%2BScience%26l%3DNew%2BYork%26grpKey%3D8gcGdG5mdGNsuA%252FIouoIqhAbCglub3JtdGl0bGUaDmRhdGEgc2NpZW50aXN0\" rel=\"nofollow\">+3 locations</a></span></div></div><div class=\"heading6 tapItem-gutter metadataContainer noJEMChips salaryOnly\"><div class=\"metadata estimated-salary-container\"><span class=\"estimated-salary\"><svg aria-hidden=\"true\" aria-label=\"Estimated $107K to $136K a year\" fill=\"none\" role=\"presentation\" viewbox=\"0 0 16 13\" xmlns=\"http://www.w3.org/2000/svg\"><defs></defs><path clip-rule=\"evenodd\" d=\"M2.45168 6.10292c-.30177-.125-.62509-.18964-.95168-.1903V4.08678c.32693-.00053.6506-.06518.95267-.1903.30331-.12564.57891-.30979.81105-.54193.23215-.23215.4163-.50775.54194-.81106.12524-.30237.18989-.62638.19029-.95365H9.0902c0 .3283.06466.65339.1903.9567.12564.30331.30978.57891.54193.81106.23217.23215.50777.41629.81107.54193.3032.12558.6281.19024.9562.1903v1.83556c-.3242.00155-.6451.06616-.9448.19028-.3033.12563-.5789.30978-.81102.54193-.23215.23214-.4163.50774-.54193.81106-.12332.2977-.18789.61638-.19024.93849H3.99496c-.00071-.32645-.06535-.64961-.19029-.95124-.12564-.30332-.30979-.57891-.54193-.81106-.23215-.23215-.50775-.4163-.81106-.54193zM0 .589843C0 .313701.223858.0898438.5.0898438h12.0897c.2762 0 .5.2238572.5.5000002V9.40715c0 .27614-.2238.5-.5.5H.5c-.276143 0-.5-.22386-.5-.5V.589843zM6.54427 6.99849c1.10457 0 2-.89543 2-2s-.89543-2-2-2-2 .89543-2 2 .89543 2 2 2zm8.05523-2.69917v7.10958H2.75977c-.27615 0-.5.2238-.5.5v.5c0 .2761.22385.5.5.5H15.422c.4419 0 .6775-.2211.6775-.6629V4.29932c0-.27615-.2239-.5-.5-.5h-.5c-.2761 0-.5.22385-.5.5z\" fill=\"#595959\" fill-rule=\"evenodd\"></path></svg><span>Estimated $107K - $136K a year</span><button aria-haspopup=\"true\" aria-label=\"About Indeed's estimated salaries\" class=\"estimated-salary-legal-disclaimer-button\" type=\"button\"><img alt=\"\" aria-hidden=\"true\" class=\"estimated-salary-legal-disclaimer-icon\" src=\"https://c03.s3.indeed.com/mosaic-provider-jobcards/dist/images/src/components/JobMetaData/EstimatedSalary/QuestionCircle-901519.svg\"/></button></span></div></div><div class=\"heading6 error-text tapItem-gutter\"></div></td></tr></tbody></table><table class=\"jobCardShelfContainer big6_visualChanges\" role=\"presentation\"><tbody><tr class=\"jobCardShelf\"><td class=\"shelfItem indeedApply\"><span class=\"iaIcon\"></span><span class=\"ialbl iaTextBlack\">Easily apply</span></td></tr><tr class=\"underShelfFooter\"><td><div class=\"heading6 tapItem-gutter result-footer\"><div class=\"job-snippet\"><ul style=\"list-style-type:circle;margin-top: 0px;margin-bottom: 0px;padding-left:20px;\">\n",
       " <li>You have experience working with <b>data</b> and building models, and applying machine learning to real business problems.</li>\n",
       " </ul></div><span class=\"date\"><span class=\"visually-hidden\">Posted</span>27 days ago</span><span class=\"result-link-bar-separator\">·</span><button aria-expanded=\"false\" class=\"sl resultLink more_links_button\" type=\"button\">More...</button></div><div class=\"tab-container\"><div class=\"more-links-container result-tab\"><div class=\"more_links\"><button aria-label=\"Close\" class=\"close-button\" title=\"Close\" type=\"button\"></button><ul><li><span class=\"mat\">View all <a href=\"/q-Datadog-l-New-York,-NY-jobs.html\">Datadog jobs in New York, NY</a> - <a href=\"/l-New-York,-NY-jobs.html\">New York jobs</a></span></li><li><span class=\"mat\">Salary Search: <a href=\"/career/data-scientist/salaries/New-York--NY?campaignid=serp-more&amp;fromjk=3f72ccd78579cf4c&amp;from=serp-more\">Data Scientist - Data Science (All Levels) salaries in New York, NY</a></span></li><li><span class=\"mat\">See popular <a href=\"/cmp/Datadog/faq\">questions &amp; answers about Datadog</a></span></li></ul></div></div></div></td></tr></tbody></table><div aria-live=\"polite\"></div></div>,\n",
       " <div class=\"job_seen_beacon\"><table cellpadding=\"0\" cellspacing=\"0\" class=\"jobCard_mainContent big6_visualChanges\" role=\"presentation\"><tbody><tr><td class=\"resultContent\"><div class=\"heading4 color-text-primary singleLineTitle tapItem-gutter\"><h2 class=\"jobTitle jobTitle-color-purple\" tabindex=\"-1\"><a aria-label=\"full details of Data Analyst (Remote)\" class=\"jcs-JobTitle\" data-hide-spinner=\"true\" data-hiring-event=\"false\" data-jk=\"20d3e043ea23ef18\" data-mobtk=\"1g50td1ggj5le800\" href=\"/rc/clk?jk=20d3e043ea23ef18&amp;fccid=2c23f29fcd5c78da&amp;vjs=3\" id=\"job_20d3e043ea23ef18\" role=\"button\" target=\"_blank\"><span id=\"jobTitle-20d3e043ea23ef18\" title=\"Data Analyst (Remote)\">Data Analyst (Remote)</span></a></h2></div><div class=\"heading6 company_location tapItem-gutter companyInfo\"><span class=\"companyName\">pulseData</span><div class=\"companyLocation\">Remote in New York, NY</div></div><div class=\"heading6 tapItem-gutter metadataContainer noJEMChips salaryOnly\"><div class=\"metadata salary-snippet-container\"><div class=\"attribute_snippet\"><svg aria-hidden=\"true\" aria-label=\"Salary\" fill=\"none\" role=\"presentation\" viewbox=\"0 0 16 13\" xmlns=\"http://www.w3.org/2000/svg\"><defs></defs><path clip-rule=\"evenodd\" d=\"M2.45168 6.10292c-.30177-.125-.62509-.18964-.95168-.1903V4.08678c.32693-.00053.6506-.06518.95267-.1903.30331-.12564.57891-.30979.81105-.54193.23215-.23215.4163-.50775.54194-.81106.12524-.30237.18989-.62638.19029-.95365H9.0902c0 .3283.06466.65339.1903.9567.12564.30331.30978.57891.54193.81106.23217.23215.50777.41629.81107.54193.3032.12558.6281.19024.9562.1903v1.83556c-.3242.00155-.6451.06616-.9448.19028-.3033.12563-.5789.30978-.81102.54193-.23215.23214-.4163.50774-.54193.81106-.12332.2977-.18789.61638-.19024.93849H3.99496c-.00071-.32645-.06535-.64961-.19029-.95124-.12564-.30332-.30979-.57891-.54193-.81106-.23215-.23215-.50775-.4163-.81106-.54193zM0 .589843C0 .313701.223858.0898438.5.0898438h12.0897c.2762 0 .5.2238572.5.5000002V9.40715c0 .27614-.2238.5-.5.5H.5c-.276143 0-.5-.22386-.5-.5V.589843zM6.54427 6.99849c1.10457 0 2-.89543 2-2s-.89543-2-2-2-2 .89543-2 2 .89543 2 2 2zm8.05523-2.69917v7.10958H2.75977c-.27615 0-.5.2238-.5.5v.5c0 .2761.22385.5.5.5H15.422c.4419 0 .6775-.2211.6775-.6629V4.29932c0-.27615-.2239-.5-.5-.5h-.5c-.2761 0-.5.22385-.5.5z\" fill=\"#595959\" fill-rule=\"evenodd\"></path></svg>$60,000 - $80,000 a year</div></div><div class=\"metadata\"><div class=\"attribute_snippet\"><svg aria-hidden=\"true\" aria-label=\"Job type\" fill=\"none\" height=\"13\" role=\"presentation\" viewbox=\"0 0 14 13\" width=\"14\" xmlns=\"http://www.w3.org/2000/svg\"><path clip-rule=\"evenodd\" d=\"M4.50226.5c-.27614 0-.5.223858-.5.5v2.1H.5c-.276142 0-.5.22386-.5.5v1.9h14V3.6c0-.27614-.2239-.5-.5-.5h-3.4977V1c0-.276142-.22389-.5-.50004-.5h-5Zm4.19962 2.6H5.30344V1.8h3.39844v1.3Z\" fill=\"#595959\" fill-rule=\"evenodd\"></path><path d=\"M5.70117 6.80005H0v5.20005c0 .2761.223857.5.5.5h13c.2761 0 .5-.2239.5-.5V6.80005H8.30117v.80322c0 .27614-.22386.5-.5.5h-1.6c-.27614 0-.5-.22386-.5-.5v-.80322Z\" fill=\"#595959\"></path></svg>Full-time</div></div></div><div class=\"heading6 error-text tapItem-gutter\"></div></td></tr></tbody></table><table class=\"jobCardShelfContainer big6_visualChanges\" role=\"presentation\"><tbody><tr class=\"jobCardShelf\"></tr><tr class=\"underShelfFooter\"><td><div class=\"heading6 tapItem-gutter result-footer\"><div class=\"job-snippet\"><ul style=\"list-style-type:circle;margin-top: 0px;margin-bottom: 0px;padding-left:20px;\">\n",
       " <li style=\"margin-bottom:0px;\">You'll be cleaning and scrubbing medical record <b>data</b> and claims <b>data</b> to ensure it can be used in our <b>data</b> pipelines.</li>\n",
       " <li>Bonus points for any experience in Spark.</li>\n",
       " </ul></div><span class=\"date\"><span class=\"visually-hidden\">Posted</span>14 days ago</span><span class=\"result-link-bar-separator\">·</span><button aria-expanded=\"false\" class=\"sl resultLink more_links_button\" type=\"button\">More...</button></div><div class=\"tab-container\"><div class=\"more-links-container result-tab\"><div class=\"more_links\"><button aria-label=\"Close\" class=\"close-button\" title=\"Close\" type=\"button\"></button><ul><li><span class=\"mat\">View all <a href=\"/q-Pulsedata-l-New-York,-NY-jobs.html\">pulseData jobs in New York, NY</a> - <a href=\"/l-New-York,-NY-jobs.html\">New York jobs</a></span></li><li><span class=\"mat\">Salary Search: <a href=\"/career/data-analyst/salaries/New-York--NY?campaignid=serp-more&amp;fromjk=20d3e043ea23ef18&amp;from=serp-more\">Data Analyst (Remote) salaries in New York, NY</a></span></li></ul></div></div></div></td></tr></tbody></table><div aria-live=\"polite\"></div></div>,\n",
       " <div class=\"job_seen_beacon\"><table cellpadding=\"0\" cellspacing=\"0\" class=\"jobCard_mainContent big6_visualChanges\" role=\"presentation\"><tbody><tr><td class=\"resultContent\"><div class=\"heading4 color-text-primary singleLineTitle tapItem-gutter\"><h2 class=\"jobTitle jobTitle-color-purple\" tabindex=\"-1\"><a aria-label=\"full details of Data Science Associate (Remote)\" class=\"jcs-JobTitle\" data-hide-spinner=\"true\" data-hiring-event=\"false\" data-jk=\"93ba85428775f72d\" data-mobtk=\"1g50td1ggj5le800\" href=\"/rc/clk?jk=93ba85428775f72d&amp;fccid=2c23f29fcd5c78da&amp;vjs=3\" id=\"job_93ba85428775f72d\" role=\"button\" target=\"_blank\"><span id=\"jobTitle-93ba85428775f72d\" title=\"Data Science Associate (Remote)\">Data Science Associate (Remote)</span></a></h2></div><div class=\"heading6 company_location tapItem-gutter companyInfo\"><span class=\"companyName\">pulseData</span><div class=\"companyLocation\">Remote in New York, NY</div></div><div class=\"heading6 tapItem-gutter metadataContainer noJEMChips salaryOnly\"><div class=\"metadata estimated-salary-container\"><span class=\"estimated-salary\"><svg aria-hidden=\"true\" aria-label=\"Estimated $84.5K to $107K a year\" fill=\"none\" role=\"presentation\" viewbox=\"0 0 16 13\" xmlns=\"http://www.w3.org/2000/svg\"><defs></defs><path clip-rule=\"evenodd\" d=\"M2.45168 6.10292c-.30177-.125-.62509-.18964-.95168-.1903V4.08678c.32693-.00053.6506-.06518.95267-.1903.30331-.12564.57891-.30979.81105-.54193.23215-.23215.4163-.50775.54194-.81106.12524-.30237.18989-.62638.19029-.95365H9.0902c0 .3283.06466.65339.1903.9567.12564.30331.30978.57891.54193.81106.23217.23215.50777.41629.81107.54193.3032.12558.6281.19024.9562.1903v1.83556c-.3242.00155-.6451.06616-.9448.19028-.3033.12563-.5789.30978-.81102.54193-.23215.23214-.4163.50774-.54193.81106-.12332.2977-.18789.61638-.19024.93849H3.99496c-.00071-.32645-.06535-.64961-.19029-.95124-.12564-.30332-.30979-.57891-.54193-.81106-.23215-.23215-.50775-.4163-.81106-.54193zM0 .589843C0 .313701.223858.0898438.5.0898438h12.0897c.2762 0 .5.2238572.5.5000002V9.40715c0 .27614-.2238.5-.5.5H.5c-.276143 0-.5-.22386-.5-.5V.589843zM6.54427 6.99849c1.10457 0 2-.89543 2-2s-.89543-2-2-2-2 .89543-2 2 .89543 2 2 2zm8.05523-2.69917v7.10958H2.75977c-.27615 0-.5.2238-.5.5v.5c0 .2761.22385.5.5.5H15.422c.4419 0 .6775-.2211.6775-.6629V4.29932c0-.27615-.2239-.5-.5-.5h-.5c-.2761 0-.5.22385-.5.5z\" fill=\"#595959\" fill-rule=\"evenodd\"></path></svg><span>Estimated $84.5K - $107K a year</span><button aria-haspopup=\"true\" aria-label=\"About Indeed's estimated salaries\" class=\"estimated-salary-legal-disclaimer-button\" type=\"button\"><img alt=\"\" aria-hidden=\"true\" class=\"estimated-salary-legal-disclaimer-icon\" src=\"https://c03.s3.indeed.com/mosaic-provider-jobcards/dist/images/src/components/JobMetaData/EstimatedSalary/QuestionCircle-901519.svg\"/></button></span></div><div class=\"metadata\"><div class=\"attribute_snippet\"><svg aria-hidden=\"true\" aria-label=\"Job type\" fill=\"none\" height=\"13\" role=\"presentation\" viewbox=\"0 0 14 13\" width=\"14\" xmlns=\"http://www.w3.org/2000/svg\"><path clip-rule=\"evenodd\" d=\"M4.50226.5c-.27614 0-.5.223858-.5.5v2.1H.5c-.276142 0-.5.22386-.5.5v1.9h14V3.6c0-.27614-.2239-.5-.5-.5h-3.4977V1c0-.276142-.22389-.5-.50004-.5h-5Zm4.19962 2.6H5.30344V1.8h3.39844v1.3Z\" fill=\"#595959\" fill-rule=\"evenodd\"></path><path d=\"M5.70117 6.80005H0v5.20005c0 .2761.223857.5.5.5h13c.2761 0 .5-.2239.5-.5V6.80005H8.30117v.80322c0 .27614-.22386.5-.5.5h-1.6c-.27614 0-.5-.22386-.5-.5v-.80322Z\" fill=\"#595959\"></path></svg>Full-time</div></div></div><div class=\"heading6 error-text tapItem-gutter\"></div></td></tr></tbody></table><table class=\"jobCardShelfContainer big6_visualChanges\" role=\"presentation\"><tbody><tr class=\"jobCardShelf\"></tr><tr class=\"underShelfFooter\"><td><div class=\"heading6 tapItem-gutter result-footer\"><div class=\"job-snippet\"><ul style=\"list-style-type:circle;margin-top: 0px;margin-bottom: 0px;padding-left:20px;\">\n",
       " <li>Bachelor/Master Degree students pursuing degrees in <b>data</b> <b>science</b>, statistics, applied math, computer <b>science</b>, engineering or other quantitative fields providing…</li>\n",
       " </ul></div><span class=\"date\"><span class=\"visually-hidden\">Posted</span>30+ days ago</span><span class=\"result-link-bar-separator\">·</span><button aria-expanded=\"false\" class=\"sl resultLink more_links_button\" type=\"button\">More...</button></div><div class=\"tab-container\"><div class=\"more-links-container result-tab\"><div class=\"more_links\"><button aria-label=\"Close\" class=\"close-button\" title=\"Close\" type=\"button\"></button><ul><li><span class=\"mat\">View all <a href=\"/q-Pulsedata-l-New-York,-NY-jobs.html\">pulseData jobs in New York, NY</a> - <a href=\"/l-New-York,-NY-jobs.html\">New York jobs</a></span></li><li><span class=\"mat\">Salary Search: <a href=\"/career/data-scientist/salaries/New-York--NY?campaignid=serp-more&amp;fromjk=93ba85428775f72d&amp;from=serp-more\">Data Science Associate (Remote) salaries in New York, NY</a></span></li></ul></div></div></div></td></tr></tbody></table><div aria-live=\"polite\"></div></div>,\n",
       " <div class=\"job_seen_beacon\"><table cellpadding=\"0\" cellspacing=\"0\" class=\"jobCard_mainContent big6_visualChanges\" role=\"presentation\"><tbody><tr><td class=\"resultContent\"><div class=\"heading4 color-text-primary singleLineTitle tapItem-gutter\"><h2 class=\"jobTitle jobTitle-color-purple jobTitle-newJob\" tabindex=\"-1\"><div class=\"new topLeft holisticNewBlue desktop\"><span class=\"label\">new</span></div><a aria-label=\"full details of Junior Researcher, Data Science\" class=\"jcs-JobTitle\" data-hide-spinner=\"true\" data-hiring-event=\"false\" data-jk=\"5c0327202e88dc5e\" data-mobtk=\"1g50td1ggj5le800\" href=\"/rc/clk?jk=5c0327202e88dc5e&amp;fccid=44b8ed526a397a28&amp;vjs=3\" id=\"job_5c0327202e88dc5e\" role=\"button\" target=\"_blank\"><span id=\"jobTitle-5c0327202e88dc5e\" title=\"Junior Researcher, Data Science\">Junior Researcher, Data Science</span></a></h2></div><div class=\"heading6 company_location tapItem-gutter companyInfo\"><span class=\"companyName\">Paliwoda Group</span><div class=\"companyLocation\">New York, NY</div></div><div class=\"heading6 tapItem-gutter metadataContainer noJEMChips salaryOnly\"><div class=\"metadata estimated-salary-container\"><span class=\"estimated-salary\"><svg aria-hidden=\"true\" aria-label=\"Estimated $75.7K to $95.9K a year\" fill=\"none\" role=\"presentation\" viewbox=\"0 0 16 13\" xmlns=\"http://www.w3.org/2000/svg\"><defs></defs><path clip-rule=\"evenodd\" d=\"M2.45168 6.10292c-.30177-.125-.62509-.18964-.95168-.1903V4.08678c.32693-.00053.6506-.06518.95267-.1903.30331-.12564.57891-.30979.81105-.54193.23215-.23215.4163-.50775.54194-.81106.12524-.30237.18989-.62638.19029-.95365H9.0902c0 .3283.06466.65339.1903.9567.12564.30331.30978.57891.54193.81106.23217.23215.50777.41629.81107.54193.3032.12558.6281.19024.9562.1903v1.83556c-.3242.00155-.6451.06616-.9448.19028-.3033.12563-.5789.30978-.81102.54193-.23215.23214-.4163.50774-.54193.81106-.12332.2977-.18789.61638-.19024.93849H3.99496c-.00071-.32645-.06535-.64961-.19029-.95124-.12564-.30332-.30979-.57891-.54193-.81106-.23215-.23215-.50775-.4163-.81106-.54193zM0 .589843C0 .313701.223858.0898438.5.0898438h12.0897c.2762 0 .5.2238572.5.5000002V9.40715c0 .27614-.2238.5-.5.5H.5c-.276143 0-.5-.22386-.5-.5V.589843zM6.54427 6.99849c1.10457 0 2-.89543 2-2s-.89543-2-2-2-2 .89543-2 2 .89543 2 2 2zm8.05523-2.69917v7.10958H2.75977c-.27615 0-.5.2238-.5.5v.5c0 .2761.22385.5.5.5H15.422c.4419 0 .6775-.2211.6775-.6629V4.29932c0-.27615-.2239-.5-.5-.5h-.5c-.2761 0-.5.22385-.5.5z\" fill=\"#595959\" fill-rule=\"evenodd\"></path></svg><span>Estimated $75.7K - $95.9K a year</span><button aria-haspopup=\"true\" aria-label=\"About Indeed's estimated salaries\" class=\"estimated-salary-legal-disclaimer-button\" type=\"button\"><img alt=\"\" aria-hidden=\"true\" class=\"estimated-salary-legal-disclaimer-icon\" src=\"https://c03.s3.indeed.com/mosaic-provider-jobcards/dist/images/src/components/JobMetaData/EstimatedSalary/QuestionCircle-901519.svg\"/></button></span></div></div><div class=\"heading6 error-text tapItem-gutter\"></div></td></tr></tbody></table><table class=\"jobCardShelfContainer big6_visualChanges\" role=\"presentation\"><tbody><tr class=\"jobCardShelf\"></tr><tr class=\"underShelfFooter\"><td><div class=\"heading6 tapItem-gutter result-footer\"><div class=\"job-snippet\"><ul style=\"list-style-type:circle;margin-top: 0px;margin-bottom: 0px;padding-left:20px;\">\n",
       " <li>The <b>Data</b> Lab practice provides a diverse range of expertise for crafting data-centric applications that create value in the \"real world\" through <b>data</b> analysis…</li>\n",
       " </ul></div><span class=\"date\"><span class=\"visually-hidden\">Posted</span>6 days ago</span><span class=\"result-link-bar-separator\">·</span><button aria-expanded=\"false\" class=\"sl resultLink more_links_button\" type=\"button\">More...</button></div><div class=\"tab-container\"><div class=\"more-links-container result-tab\"><div class=\"more_links\"><button aria-label=\"Close\" class=\"close-button\" title=\"Close\" type=\"button\"></button><ul><li><span class=\"mat\">View all <a href=\"/q-Paliwoda-Group-l-New-York,-NY-jobs.html\">Paliwoda Group jobs in New York, NY</a> - <a href=\"/l-New-York,-NY-jobs.html\">New York jobs</a></span></li><li><span class=\"mat\">Salary Search: <a href=\"/career/data-scientist/salaries/New-York--NY?campaignid=serp-more&amp;fromjk=5c0327202e88dc5e&amp;from=serp-more\">Junior Researcher, Data Science salaries in New York, NY</a></span></li></ul></div></div></div></td></tr></tbody></table><div aria-live=\"polite\"></div></div>,\n",
       " <div class=\"job_seen_beacon\"><table cellpadding=\"0\" cellspacing=\"0\" class=\"jobCard_mainContent big6_visualChanges\" role=\"presentation\"><tbody><tr><td class=\"resultContent\"><div class=\"heading4 color-text-primary singleLineTitle tapItem-gutter\"><h2 class=\"jobTitle jobTitle-color-purple\" tabindex=\"-1\"><a aria-label=\"full details of Data Analyst\" class=\"jcs-JobTitle\" data-hide-spinner=\"true\" data-hiring-event=\"false\" data-jk=\"ff8c8a3404edd1ec\" data-mobtk=\"1g50td1ggj5le800\" href=\"/rc/clk?jk=ff8c8a3404edd1ec&amp;fccid=40e5de3065c12562&amp;vjs=3\" id=\"job_ff8c8a3404edd1ec\" role=\"button\" target=\"_blank\"><span id=\"jobTitle-ff8c8a3404edd1ec\" title=\"Data Analyst\">Data Analyst</span></a></h2></div><div class=\"heading6 company_location tapItem-gutter companyInfo\"><span class=\"companyName\">Disney Streaming</span><div class=\"companyLocation\">New York, NY<span class=\"more_loc_container\"><a aria-label=\"Same Data Analyst job in 1 other location\" class=\"more_loc\" href=\"/addlLoc/redirect?tk=1g50td1ggj5le800&amp;jk=ff8c8a3404edd1ec&amp;dest=%2Fjobs%3Fq%3DData%2BScience%26l%3DNew%2BYork%26grpKey%3D8gcGdG5mdGNsuA%252Bs2as5qhAZCglub3JtdGl0bGUaDGRhdGEgYW5hbHlzdA%253D%253D\" rel=\"nofollow\">+1 location</a></span></div></div><div class=\"heading6 tapItem-gutter metadataContainer noJEMChips salaryOnly\"><div class=\"metadata\"><div class=\"attribute_snippet\"><svg aria-hidden=\"true\" aria-label=\"Job type\" fill=\"none\" height=\"13\" role=\"presentation\" viewbox=\"0 0 14 13\" width=\"14\" xmlns=\"http://www.w3.org/2000/svg\"><path clip-rule=\"evenodd\" d=\"M4.50226.5c-.27614 0-.5.223858-.5.5v2.1H.5c-.276142 0-.5.22386-.5.5v1.9h14V3.6c0-.27614-.2239-.5-.5-.5h-3.4977V1c0-.276142-.22389-.5-.50004-.5h-5Zm4.19962 2.6H5.30344V1.8h3.39844v1.3Z\" fill=\"#595959\" fill-rule=\"evenodd\"></path><path d=\"M5.70117 6.80005H0v5.20005c0 .2761.223857.5.5.5h13c.2761 0 .5-.2239.5-.5V6.80005H8.30117v.80322c0 .27614-.22386.5-.5.5h-1.6c-.27614 0-.5-.22386-.5-.5v-.80322Z\" fill=\"#595959\"></path></svg>Full-time</div></div></div><div class=\"heading6 error-text tapItem-gutter\"></div></td></tr></tbody></table><table class=\"jobCardShelfContainer big6_visualChanges\" role=\"presentation\"><tbody><tr class=\"jobCardShelf\"></tr><tr class=\"underShelfFooter\"><td><div class=\"heading6 tapItem-gutter result-footer\"><div class=\"job-snippet\"><ul style=\"list-style-type:circle;margin-top: 0px;margin-bottom: 0px;padding-left:20px;\">\n",
       " <li>Apply advanced analytics techniques (data mining, <b>data</b> visualization, statistical analysis, machine learning) on large-scale, high-dimensional <b>data</b> to help…</li>\n",
       " </ul></div><span class=\"date\"><span class=\"visually-hidden\">Posted</span>13 days ago</span><span class=\"result-link-bar-separator\">·</span><button aria-expanded=\"false\" class=\"sl resultLink more_links_button\" type=\"button\">More...</button></div><div class=\"tab-container\"><div class=\"more-links-container result-tab\"><div class=\"more_links\"><button aria-label=\"Close\" class=\"close-button\" title=\"Close\" type=\"button\"></button><ul><li><span class=\"mat\">View all <a href=\"/q-Disney-Streaming-l-New-York,-NY-jobs.html\">Disney Streaming jobs in New York, NY</a> - <a href=\"/l-New-York,-NY-jobs.html\">New York jobs</a></span></li><li><span class=\"mat\">Salary Search: <a href=\"/career/data-analyst/salaries/New-York--NY?campaignid=serp-more&amp;fromjk=ff8c8a3404edd1ec&amp;from=serp-more\">Data Analyst salaries in New York, NY</a></span></li></ul></div></div></div></td></tr></tbody></table><div aria-live=\"polite\"></div></div>,\n",
       " <div class=\"job_seen_beacon\"><table cellpadding=\"0\" cellspacing=\"0\" class=\"jobCard_mainContent big6_visualChanges\" role=\"presentation\"><tbody><tr><td class=\"resultContent\"><div class=\"heading4 color-text-primary singleLineTitle tapItem-gutter\"><h2 class=\"jobTitle jobTitle-color-purple jobTitle-newJob\" tabindex=\"-1\"><div class=\"new topLeft holisticNewBlue desktop\"><span class=\"label\">new</span></div><a aria-label=\"full details of Data Scientist\" class=\"jcs-JobTitle\" data-hide-spinner=\"true\" data-hiring-event=\"false\" data-jk=\"f4f924ccdcaf1822\" data-mobtk=\"1g50td1ggj5le800\" href=\"/rc/clk?jk=f4f924ccdcaf1822&amp;fccid=2c62e4de04b8f952&amp;vjs=3\" id=\"job_f4f924ccdcaf1822\" role=\"button\" target=\"_blank\"><span id=\"jobTitle-f4f924ccdcaf1822\" title=\"Data Scientist\">Data Scientist</span></a></h2></div><div class=\"heading6 company_location tapItem-gutter companyInfo\"><span class=\"companyName\"><a class=\"turnstileLink companyOverviewLink\" data-tn-element=\"companyName\" href=\"/cmp/Nike\" rel=\"noopener\" target=\"_blank\">Nike</a></span><span class=\"ratingsDisplay withRatingLink\"><a aria-label=\"Company rating 4.1 out of 5 stars\" class=\"ratingLink\" data-tn-variant=\"cmplinktst2\" href=\"/cmp/Nike/reviews\" rel=\"noopener\" target=\"_blank\" title=\"Nike reviews\"><span aria-label=\"4.1 out of five stars rating\" class=\"ratingNumber\" role=\"img\"><span aria-hidden=\"true\">4.1</span><svg aria-hidden=\"true\" class=\"starIcon\" fill=\"none\" height=\"12\" role=\"presentation\" viewbox=\"0 0 16 16\" width=\"12\" xmlns=\"http://www.w3.org/2000/svg\"><path d=\"M8 12.8709L12.4542 15.5593C12.7807 15.7563 13.1835 15.4636 13.0968 15.0922L11.9148 10.0254L15.8505 6.61581C16.1388 6.36608 15.9847 5.89257 15.6047 5.86033L10.423 5.42072L8.39696 0.640342C8.24839 0.289808 7.7516 0.289808 7.60303 0.640341L5.57696 5.42072L0.395297 5.86033C0.015274 5.89257 -0.13882 6.36608 0.149443 6.61581L4.0852 10.0254L2.90318 15.0922C2.81653 15.4636 3.21932 15.7563 3.54584 15.5593L8 12.8709Z\" fill=\"#767676\"></path></svg></span></a></span><div class=\"companyLocation\">New York, NY</div></div><div class=\"heading6 tapItem-gutter metadataContainer noJEMChips salaryOnly\"><div class=\"metadata\"><div class=\"attribute_snippet\"><svg aria-hidden=\"true\" aria-label=\"Job type\" fill=\"none\" height=\"13\" role=\"presentation\" viewbox=\"0 0 14 13\" width=\"14\" xmlns=\"http://www.w3.org/2000/svg\"><path clip-rule=\"evenodd\" d=\"M4.50226.5c-.27614 0-.5.223858-.5.5v2.1H.5c-.276142 0-.5.22386-.5.5v1.9h14V3.6c0-.27614-.2239-.5-.5-.5h-3.4977V1c0-.276142-.22389-.5-.50004-.5h-5Zm4.19962 2.6H5.30344V1.8h3.39844v1.3Z\" fill=\"#595959\" fill-rule=\"evenodd\"></path><path d=\"M5.70117 6.80005H0v5.20005c0 .2761.223857.5.5.5h13c.2761 0 .5-.2239.5-.5V6.80005H8.30117v.80322c0 .27614-.22386.5-.5.5h-1.6c-.27614 0-.5-.22386-.5-.5v-.80322Z\" fill=\"#595959\"></path></svg>Full-time</div></div></div><div class=\"heading6 error-text tapItem-gutter\"></div></td></tr></tbody></table><table class=\"jobCardShelfContainer big6_visualChanges\" role=\"presentation\"><tbody><tr class=\"jobCardShelf\"></tr><tr class=\"underShelfFooter\"><td><div class=\"heading6 tapItem-gutter result-footer\"><div class=\"job-snippet\"><ul style=\"list-style-type:circle;margin-top: 0px;margin-bottom: 0px;padding-left:20px;\">\n",
       " <li style=\"margin-bottom:0px;\">Identify meaningful insights from large <b>data</b> and metadata sources.</li>\n",
       " <li>Use best practices and <b>data</b> of internal or external business issues to improve products or…</li>\n",
       " </ul></div><span class=\"date\"><span class=\"visually-hidden\">Posted</span>7 days ago</span><span class=\"result-link-bar-separator\">·</span><button aria-expanded=\"false\" class=\"sl resultLink more_links_button\" type=\"button\">More...</button></div><div class=\"tab-container\"><div class=\"more-links-container result-tab\"><div class=\"more_links\"><button aria-label=\"Close\" class=\"close-button\" title=\"Close\" type=\"button\"></button><ul><li><span class=\"mat\">View all <a href=\"/q-Nike-l-New-York,-NY-jobs.html\">Nike jobs in New York, NY</a> - <a href=\"/l-New-York,-NY-jobs.html\">New York jobs</a></span></li><li><span class=\"mat\">Salary Search: <a href=\"/career/data-scientist/salaries/New-York--NY?campaignid=serp-more&amp;fromjk=f4f924ccdcaf1822&amp;from=serp-more\">Data Scientist salaries in New York, NY</a></span></li><li><span class=\"mat\">See popular <a href=\"/cmp/Nike/faq\">questions &amp; answers about Nike</a></span></li></ul></div></div></div></td></tr></tbody></table><div aria-live=\"polite\"></div></div>,\n",
       " <div class=\"job_seen_beacon\"><table cellpadding=\"0\" cellspacing=\"0\" class=\"jobCard_mainContent big6_visualChanges\" role=\"presentation\"><tbody><tr><td class=\"resultContent\"><div class=\"heading4 color-text-primary singleLineTitle tapItem-gutter\"><h2 class=\"jobTitle jobTitle-color-purple\" tabindex=\"-1\"><a aria-label=\"full details of Data Science Rotation Program Associate\" class=\"jcs-JobTitle\" data-hide-spinner=\"true\" data-hiring-event=\"false\" data-jk=\"61c19d3402d0300b\" data-mobtk=\"1g50td1ggj5le800\" href=\"/rc/clk?jk=61c19d3402d0300b&amp;fccid=f0595ebb13247329&amp;vjs=3\" id=\"job_61c19d3402d0300b\" role=\"button\" target=\"_blank\"><span id=\"jobTitle-61c19d3402d0300b\" title=\"Data Science Rotation Program Associate\">Data Science Rotation Program Associate</span></a></h2></div><div class=\"heading6 company_location tapItem-gutter companyInfo\"><span class=\"companyName\"><a class=\"turnstileLink companyOverviewLink\" data-tn-element=\"companyName\" href=\"/cmp/New-York-Life\" rel=\"noopener\" target=\"_blank\">New York Life Insurance Co</a></span><span class=\"ratingsDisplay withRatingLink\"><a aria-label=\"Company rating 3.7 out of 5 stars\" class=\"ratingLink\" data-tn-variant=\"cmplinktst2\" href=\"/cmp/New-York-Life/reviews\" rel=\"noopener\" target=\"_blank\" title=\"New York Life Insurance Co reviews\"><span aria-label=\"3.7 out of five stars rating\" class=\"ratingNumber\" role=\"img\"><span aria-hidden=\"true\">3.7</span><svg aria-hidden=\"true\" class=\"starIcon\" fill=\"none\" height=\"12\" role=\"presentation\" viewbox=\"0 0 16 16\" width=\"12\" xmlns=\"http://www.w3.org/2000/svg\"><path d=\"M8 12.8709L12.4542 15.5593C12.7807 15.7563 13.1835 15.4636 13.0968 15.0922L11.9148 10.0254L15.8505 6.61581C16.1388 6.36608 15.9847 5.89257 15.6047 5.86033L10.423 5.42072L8.39696 0.640342C8.24839 0.289808 7.7516 0.289808 7.60303 0.640341L5.57696 5.42072L0.395297 5.86033C0.015274 5.89257 -0.13882 6.36608 0.149443 6.61581L4.0852 10.0254L2.90318 15.0922C2.81653 15.4636 3.21932 15.7563 3.54584 15.5593L8 12.8709Z\" fill=\"#767676\"></path></svg></span></a></span><div class=\"companyLocation\">New York, NY<span class=\"more_loc_container\"><a aria-label=\"Same Data Science Rotation Program Associate job in 1 other location\" class=\"more_loc\" href=\"/addlLoc/redirect?tk=1g50td1ggj5le800&amp;jk=61c19d3402d0300b&amp;dest=%2Fjobs%3Fq%3DData%2BScience%26l%3DNew%2BYork%26grpKey%3D8gcGdG5mdGNsuA%252F%252BqAGqEBsKCW5vcm10aXRsZRoOZGF0YSBzY2llbnRpc3Q%253D\" rel=\"nofollow\">+1 location</a></span></div></div><div class=\"heading6 error-text tapItem-gutter\"></div></td></tr></tbody></table><table class=\"jobCardShelfContainer big6_visualChanges\" role=\"presentation\"><tbody><tr class=\"jobCardShelf\"></tr><tr class=\"underShelfFooter\"><td><div class=\"heading6 tapItem-gutter result-footer\"><div class=\"job-snippet\"><ul style=\"list-style-type:circle;margin-top: 0px;margin-bottom: 0px;padding-left:20px;\">\n",
       " <li>You will be inspired to strengthen other critical components of being an effective <b>data</b> scientist ranging from soft skills (concisely presenting a <b>data</b> story,…</li>\n",
       " </ul></div><span class=\"date\"><span class=\"visually-hidden\">Posted</span>30+ days ago</span><span class=\"result-link-bar-separator\">·</span><button aria-expanded=\"false\" class=\"sl resultLink more_links_button\" type=\"button\">More...</button></div><div class=\"tab-container\"><div class=\"more-links-container result-tab\"><div class=\"more_links\"><button aria-label=\"Close\" class=\"close-button\" title=\"Close\" type=\"button\"></button><ul><li><span class=\"mat\">View all <a href=\"/jobs?q=New+York+Life+Insurance+Co&amp;l=New+York,+NY&amp;nc=jasx\">New York Life Insurance Co jobs in New York, NY</a> - <a href=\"/l-New-York,-NY-jobs.html\">New York jobs</a></span></li><li><span class=\"mat\">Salary Search: <a href=\"/career/data-scientist/salaries/New-York--NY?campaignid=serp-more&amp;fromjk=61c19d3402d0300b&amp;from=serp-more\">Data Science Rotation Program Associate salaries in New York, NY</a></span></li><li><span class=\"mat\">See popular <a href=\"/cmp/New-York-Life/faq\">questions &amp; answers about New York Life Insurance Co</a></span></li></ul></div></div></div></td></tr></tbody></table><div aria-live=\"polite\"></div></div>,\n",
       " <div class=\"job_seen_beacon\"><table cellpadding=\"0\" cellspacing=\"0\" class=\"jobCard_mainContent big6_visualChanges\" role=\"presentation\"><tbody><tr><td class=\"resultContent\"><div class=\"heading4 color-text-primary singleLineTitle tapItem-gutter\"><h2 class=\"jobTitle jobTitle-color-purple\" tabindex=\"-1\"><a aria-label=\"full details of Data Annotator\" class=\"jcs-JobTitle\" data-hide-spinner=\"true\" data-hiring-event=\"false\" data-jk=\"78aa2fba388b4f6a\" data-mobtk=\"1g50td1ggj5le800\" href=\"/rc/clk?jk=78aa2fba388b4f6a&amp;fccid=f16bf1b992793af8&amp;vjs=3\" id=\"job_78aa2fba388b4f6a\" role=\"button\" target=\"_blank\"><span id=\"jobTitle-78aa2fba388b4f6a\" title=\"Data Annotator\">Data Annotator</span></a></h2></div><div class=\"heading6 company_location tapItem-gutter companyInfo\"><span class=\"companyName\">Skit.ai</span><div class=\"companyLocation\">Remote in New York, NY 10007</div></div><div class=\"heading6 tapItem-gutter metadataContainer noJEMChips salaryOnly\"><div class=\"metadata estimated-salary-container\"><span class=\"estimated-salary\"><svg aria-hidden=\"true\" aria-label=\"Estimated $104K to $132K a year\" fill=\"none\" role=\"presentation\" viewbox=\"0 0 16 13\" xmlns=\"http://www.w3.org/2000/svg\"><defs></defs><path clip-rule=\"evenodd\" d=\"M2.45168 6.10292c-.30177-.125-.62509-.18964-.95168-.1903V4.08678c.32693-.00053.6506-.06518.95267-.1903.30331-.12564.57891-.30979.81105-.54193.23215-.23215.4163-.50775.54194-.81106.12524-.30237.18989-.62638.19029-.95365H9.0902c0 .3283.06466.65339.1903.9567.12564.30331.30978.57891.54193.81106.23217.23215.50777.41629.81107.54193.3032.12558.6281.19024.9562.1903v1.83556c-.3242.00155-.6451.06616-.9448.19028-.3033.12563-.5789.30978-.81102.54193-.23215.23214-.4163.50774-.54193.81106-.12332.2977-.18789.61638-.19024.93849H3.99496c-.00071-.32645-.06535-.64961-.19029-.95124-.12564-.30332-.30979-.57891-.54193-.81106-.23215-.23215-.50775-.4163-.81106-.54193zM0 .589843C0 .313701.223858.0898438.5.0898438h12.0897c.2762 0 .5.2238572.5.5000002V9.40715c0 .27614-.2238.5-.5.5H.5c-.276143 0-.5-.22386-.5-.5V.589843zM6.54427 6.99849c1.10457 0 2-.89543 2-2s-.89543-2-2-2-2 .89543-2 2 .89543 2 2 2zm8.05523-2.69917v7.10958H2.75977c-.27615 0-.5.2238-.5.5v.5c0 .2761.22385.5.5.5H15.422c.4419 0 .6775-.2211.6775-.6629V4.29932c0-.27615-.2239-.5-.5-.5h-.5c-.2761 0-.5.22385-.5.5z\" fill=\"#595959\" fill-rule=\"evenodd\"></path></svg><span>Estimated $104K - $132K a year</span><button aria-haspopup=\"true\" aria-label=\"About Indeed's estimated salaries\" class=\"estimated-salary-legal-disclaimer-button\" type=\"button\"><img alt=\"\" aria-hidden=\"true\" class=\"estimated-salary-legal-disclaimer-icon\" src=\"https://c03.s3.indeed.com/mosaic-provider-jobcards/dist/images/src/components/JobMetaData/EstimatedSalary/QuestionCircle-901519.svg\"/></button></span></div></div><div class=\"heading6 error-text tapItem-gutter\"></div></td></tr></tbody></table><table class=\"jobCardShelfContainer big6_visualChanges\" role=\"presentation\"><tbody><tr class=\"jobCardShelf\"><td class=\"shelfItem indeedApply\"><span class=\"iaIcon\"></span><span class=\"ialbl iaTextBlack\">Easily apply</span></td></tr><tr class=\"underShelfFooter\"><td><div class=\"heading6 tapItem-gutter result-footer\"><div class=\"job-snippet\"><ul style=\"list-style-type:circle;margin-top: 0px;margin-bottom: 0px;padding-left:20px;\">\n",
       " <li style=\"margin-bottom:0px;\">As <b>data</b> associate, you will work closely with the product and machine learning team.</li>\n",
       " <li>Your role would involve taking ownership of transcribing, tagging and…</li>\n",
       " </ul></div><span class=\"date\"><span class=\"visually-hidden\">Employer</span>Active 4 days ago</span><span class=\"result-link-bar-separator\">·</span><button aria-expanded=\"false\" class=\"sl resultLink more_links_button\" type=\"button\">More...</button></div><div class=\"tab-container\"><div class=\"more-links-container result-tab\"><div class=\"more_links\"><button aria-label=\"Close\" class=\"close-button\" title=\"Close\" type=\"button\"></button><ul><li><span class=\"mat\">View all <a href=\"/q-Skit-Ai-l-New-York,-NY-jobs.html\">Skit.ai jobs in New York, NY</a> - <a href=\"/l-New-York,-NY-jobs.html\">New York jobs</a></span></li></ul></div></div></div></td></tr></tbody></table><div aria-live=\"polite\"></div></div>,\n",
       " <div class=\"job_seen_beacon\"><table cellpadding=\"0\" cellspacing=\"0\" class=\"jobCard_mainContent big6_visualChanges\" role=\"presentation\"><tbody><tr><td class=\"resultContent\"><div class=\"heading4 color-text-primary singleLineTitle tapItem-gutter\"><h2 class=\"jobTitle jobTitle-color-purple\" tabindex=\"-1\"><a aria-label=\"full details of Data Science Online Course Instructor (Part-Time, Contract)\" class=\"jcs-JobTitle\" data-hide-spinner=\"true\" data-hiring-event=\"false\" data-jk=\"23b5b7b2a7de4a52\" data-mobtk=\"1g50td1ggj5le800\" href=\"/rc/clk?jk=23b5b7b2a7de4a52&amp;fccid=f0dbb4617995d17b&amp;vjs=3\" id=\"job_23b5b7b2a7de4a52\" role=\"button\" target=\"_blank\"><span id=\"jobTitle-23b5b7b2a7de4a52\" title=\"Data Science Online Course Instructor (Part-Time, Contract)\">Data Science Online Course Instructor (Part-Time, Contract)</span></a></h2></div><div class=\"heading6 company_location tapItem-gutter companyInfo\"><span class=\"companyName\">DataCamp</span><div class=\"companyLocation\">Remote in New York, NY</div></div><div class=\"heading6 tapItem-gutter metadataContainer noJEMChips salaryOnly\"><div class=\"metadata salary-snippet-container\"><div class=\"attribute_snippet\"><svg aria-hidden=\"true\" aria-label=\"Salary\" fill=\"none\" role=\"presentation\" viewbox=\"0 0 16 13\" xmlns=\"http://www.w3.org/2000/svg\"><defs></defs><path clip-rule=\"evenodd\" d=\"M2.45168 6.10292c-.30177-.125-.62509-.18964-.95168-.1903V4.08678c.32693-.00053.6506-.06518.95267-.1903.30331-.12564.57891-.30979.81105-.54193.23215-.23215.4163-.50775.54194-.81106.12524-.30237.18989-.62638.19029-.95365H9.0902c0 .3283.06466.65339.1903.9567.12564.30331.30978.57891.54193.81106.23217.23215.50777.41629.81107.54193.3032.12558.6281.19024.9562.1903v1.83556c-.3242.00155-.6451.06616-.9448.19028-.3033.12563-.5789.30978-.81102.54193-.23215.23214-.4163.50774-.54193.81106-.12332.2977-.18789.61638-.19024.93849H3.99496c-.00071-.32645-.06535-.64961-.19029-.95124-.12564-.30332-.30979-.57891-.54193-.81106-.23215-.23215-.50775-.4163-.81106-.54193zM0 .589843C0 .313701.223858.0898438.5.0898438h12.0897c.2762 0 .5.2238572.5.5000002V9.40715c0 .27614-.2238.5-.5.5H.5c-.276143 0-.5-.22386-.5-.5V.589843zM6.54427 6.99849c1.10457 0 2-.89543 2-2s-.89543-2-2-2-2 .89543-2 2 .89543 2 2 2zm8.05523-2.69917v7.10958H2.75977c-.27615 0-.5.2238-.5.5v.5c0 .2761.22385.5.5.5H15.422c.4419 0 .6775-.2211.6775-.6629V4.29932c0-.27615-.2239-.5-.5-.5h-.5c-.2761 0-.5.22385-.5.5z\" fill=\"#595959\" fill-rule=\"evenodd\"></path></svg>From $150,000 a year</div></div><div class=\"metadata\"><div class=\"attribute_snippet\"><svg aria-hidden=\"true\" aria-label=\"Job type\" fill=\"none\" height=\"13\" role=\"presentation\" viewbox=\"0 0 14 13\" width=\"14\" xmlns=\"http://www.w3.org/2000/svg\"><path clip-rule=\"evenodd\" d=\"M4.50226.5c-.27614 0-.5.223858-.5.5v2.1H.5c-.276142 0-.5.22386-.5.5v1.9h14V3.6c0-.27614-.2239-.5-.5-.5h-3.4977V1c0-.276142-.22389-.5-.50004-.5h-5Zm4.19962 2.6H5.30344V1.8h3.39844v1.3Z\" fill=\"#595959\" fill-rule=\"evenodd\"></path><path d=\"M5.70117 6.80005H0v5.20005c0 .2761.223857.5.5.5h13c.2761 0 .5-.2239.5-.5V6.80005H8.30117v.80322c0 .27614-.22386.5-.5.5h-1.6c-.27614 0-.5-.22386-.5-.5v-.80322Z\" fill=\"#595959\"></path></svg>Part-time<span class=\"more-items\"> +<!-- -->1</span></div></div></div><div class=\"heading6 error-text tapItem-gutter\"></div></td></tr></tbody></table><table class=\"jobCardShelfContainer big6_visualChanges\" role=\"presentation\"><tbody><tr class=\"jobCardShelf\"><td class=\"shelfItem indeedApply\"><span class=\"iaIcon\"></span><span class=\"ialbl iaTextBlack\">Easily apply</span></td></tr><tr class=\"underShelfFooter\"><td><div class=\"heading6 tapItem-gutter result-footer\"><div class=\"job-snippet\"><ul style=\"list-style-type:circle;margin-top: 0px;margin-bottom: 0px;padding-left:20px;\">\n",
       " <li style=\"margin-bottom:0px;\">Passionate about teaching <b>data</b> <b>science</b> and <b>data</b> fluency skills.</li>\n",
       " <li>Talented <b>data</b> <b>science</b> industry professional skilled in either Python, R, SQL, or Sheets (or all…</li>\n",
       " </ul></div><span class=\"date\"><span class=\"visually-hidden\">Posted</span>30+ days ago</span><span class=\"result-link-bar-separator\">·</span><button aria-expanded=\"false\" class=\"sl resultLink more_links_button\" type=\"button\">More...</button></div><div class=\"tab-container\"><div class=\"more-links-container result-tab\"><div class=\"more_links\"><button aria-label=\"Close\" class=\"close-button\" title=\"Close\" type=\"button\"></button><ul><li><span class=\"mat\">View all <a href=\"/q-Datacamp-l-New-York,-NY-jobs.html\">DataCamp jobs in New York, NY</a> - <a href=\"/l-New-York,-NY-jobs.html\">New York jobs</a></span></li><li><span class=\"mat\">Salary Search: <a href=\"/career/data-scientist/salaries/New-York--NY?campaignid=serp-more&amp;fromjk=23b5b7b2a7de4a52&amp;from=serp-more\">Data Science Online Course Instructor (Part-Time, Contract) salaries in New York, NY</a></span></li></ul></div></div></div></td></tr></tbody></table><div aria-live=\"polite\"></div></div>,\n",
       " <div class=\"job_seen_beacon\"><table cellpadding=\"0\" cellspacing=\"0\" class=\"jobCard_mainContent big6_visualChanges\" role=\"presentation\"><tbody><tr><td class=\"resultContent\"><div class=\"heading4 color-text-primary singleLineTitle tapItem-gutter\"><h2 class=\"jobTitle jobTitle-color-purple\" tabindex=\"-1\"><a aria-label=\"full details of Data Scientist - Analytics\" class=\"jcs-JobTitle\" data-hide-spinner=\"true\" data-hiring-event=\"false\" data-jk=\"437bdb20ea775bcd\" data-mobtk=\"1g50td1ggj5le800\" href=\"/rc/clk?jk=437bdb20ea775bcd&amp;fccid=e21f6affbb4bb0b2&amp;vjs=3\" id=\"job_437bdb20ea775bcd\" role=\"button\" target=\"_blank\"><span id=\"jobTitle-437bdb20ea775bcd\" title=\"Data Scientist - Analytics\">Data Scientist - Analytics</span></a></h2></div><div class=\"heading6 company_location tapItem-gutter companyInfo\"><span class=\"companyName\"><a class=\"turnstileLink companyOverviewLink\" data-tn-element=\"companyName\" href=\"/cmp/Twitch\" rel=\"noopener\" target=\"_blank\">Twitch</a></span><span class=\"ratingsDisplay withRatingLink\"><a aria-label=\"Company rating 4.4 out of 5 stars\" class=\"ratingLink\" data-tn-variant=\"cmplinktst2\" href=\"/cmp/Twitch/reviews\" rel=\"noopener\" target=\"_blank\" title=\"Twitch reviews\"><span aria-label=\"4.4 out of five stars rating\" class=\"ratingNumber\" role=\"img\"><span aria-hidden=\"true\">4.4</span><svg aria-hidden=\"true\" class=\"starIcon\" fill=\"none\" height=\"12\" role=\"presentation\" viewbox=\"0 0 16 16\" width=\"12\" xmlns=\"http://www.w3.org/2000/svg\"><path d=\"M8 12.8709L12.4542 15.5593C12.7807 15.7563 13.1835 15.4636 13.0968 15.0922L11.9148 10.0254L15.8505 6.61581C16.1388 6.36608 15.9847 5.89257 15.6047 5.86033L10.423 5.42072L8.39696 0.640342C8.24839 0.289808 7.7516 0.289808 7.60303 0.640341L5.57696 5.42072L0.395297 5.86033C0.015274 5.89257 -0.13882 6.36608 0.149443 6.61581L4.0852 10.0254L2.90318 15.0922C2.81653 15.4636 3.21932 15.7563 3.54584 15.5593L8 12.8709Z\" fill=\"#767676\"></path></svg></span></a></span><div class=\"companyLocation\">Remote in New York, NY 10011</div></div><div class=\"heading6 error-text tapItem-gutter\"></div></td></tr></tbody></table><table class=\"jobCardShelfContainer big6_visualChanges\" role=\"presentation\"><tbody><tr class=\"jobCardShelf\"><td class=\"shelfItem indeedApply\"><span class=\"iaIcon\"></span><span class=\"ialbl iaTextBlack\">Easily apply</span></td></tr><tr class=\"underShelfFooter\"><td><div class=\"heading6 tapItem-gutter result-footer\"><div class=\"job-snippet\"><ul style=\"list-style-type:circle;margin-top: 0px;margin-bottom: 0px;padding-left:20px;\">\n",
       " <li style=\"margin-bottom:0px;\">5+ years of experience as a <b>data</b> scientist or <b>data</b> analyst in a high-velocity environment.</li>\n",
       " <li>Experience building aggregates and optimizing <b>data</b> workstreams.</li>\n",
       " </ul></div><span class=\"date\"><span class=\"visually-hidden\">Posted</span>30+ days ago</span><span class=\"result-link-bar-separator\">·</span><button aria-expanded=\"false\" class=\"sl resultLink more_links_button\" type=\"button\">More...</button></div><div class=\"tab-container\"><div class=\"more-links-container result-tab\"><div class=\"more_links\"><button aria-label=\"Close\" class=\"close-button\" title=\"Close\" type=\"button\"></button><ul><li><span class=\"mat\">View all <a href=\"/q-Twitch-l-New-York,-NY-jobs.html\">Twitch jobs in New York, NY</a> - <a href=\"/l-New-York,-NY-jobs.html\">New York jobs</a></span></li><li><span class=\"mat\">Salary Search: <a href=\"/career/data-scientist/salaries/New-York--NY?campaignid=serp-more&amp;fromjk=437bdb20ea775bcd&amp;from=serp-more\">Data Scientist - Analytics salaries in New York, NY</a></span></li><li><span class=\"mat\">See popular <a href=\"/cmp/Twitch/faq\">questions &amp; answers about Twitch</a></span></li></ul></div></div></div></td></tr></tbody></table><div aria-live=\"polite\"></div></div>,\n",
       " <div class=\"job_seen_beacon\"><table cellpadding=\"0\" cellspacing=\"0\" class=\"jobCard_mainContent big6_visualChanges\" role=\"presentation\"><tbody><tr><td class=\"resultContent\"><div class=\"heading4 color-text-primary singleLineTitle tapItem-gutter\"><h2 class=\"jobTitle jobTitle-color-purple jobTitle-newJob\" tabindex=\"-1\"><div class=\"new topLeft holisticNewBlue desktop\"><span class=\"label\">new</span></div><a aria-label=\"full details of Data Analyst\" class=\"jcs-JobTitle\" data-hide-spinner=\"true\" data-hiring-event=\"false\" data-jk=\"6b86548fa4207a20\" data-mobtk=\"1g50td1ggj5le800\" href=\"/rc/clk?jk=6b86548fa4207a20&amp;fccid=f89deb5a97c7738a&amp;vjs=3\" id=\"job_6b86548fa4207a20\" role=\"button\" target=\"_blank\"><span id=\"jobTitle-6b86548fa4207a20\" title=\"Data Analyst\">Data Analyst</span></a></h2></div><div class=\"heading6 company_location tapItem-gutter companyInfo\"><span class=\"companyName\"><a class=\"turnstileLink companyOverviewLink\" data-tn-element=\"companyName\" href=\"/cmp/Adobe\" rel=\"noopener\" target=\"_blank\">Adobe</a></span><span class=\"ratingsDisplay withRatingLink\"><a aria-label=\"Company rating 4.3 out of 5 stars\" class=\"ratingLink\" data-tn-variant=\"cmplinktst2\" href=\"/cmp/Adobe/reviews\" rel=\"noopener\" target=\"_blank\" title=\"Adobe reviews\"><span aria-label=\"4.3 out of five stars rating\" class=\"ratingNumber\" role=\"img\"><span aria-hidden=\"true\">4.3</span><svg aria-hidden=\"true\" class=\"starIcon\" fill=\"none\" height=\"12\" role=\"presentation\" viewbox=\"0 0 16 16\" width=\"12\" xmlns=\"http://www.w3.org/2000/svg\"><path d=\"M8 12.8709L12.4542 15.5593C12.7807 15.7563 13.1835 15.4636 13.0968 15.0922L11.9148 10.0254L15.8505 6.61581C16.1388 6.36608 15.9847 5.89257 15.6047 5.86033L10.423 5.42072L8.39696 0.640342C8.24839 0.289808 7.7516 0.289808 7.60303 0.640341L5.57696 5.42072L0.395297 5.86033C0.015274 5.89257 -0.13882 6.36608 0.149443 6.61581L4.0852 10.0254L2.90318 15.0922C2.81653 15.4636 3.21932 15.7563 3.54584 15.5593L8 12.8709Z\" fill=\"#767676\"></path></svg></span></a></span><div class=\"companyLocation\">New York, NY</div></div><div class=\"heading6 tapItem-gutter metadataContainer noJEMChips salaryOnly\"><div class=\"metadata salary-snippet-container\"><div class=\"attribute_snippet\"><svg aria-hidden=\"true\" aria-label=\"Salary\" fill=\"none\" role=\"presentation\" viewbox=\"0 0 16 13\" xmlns=\"http://www.w3.org/2000/svg\"><defs></defs><path clip-rule=\"evenodd\" d=\"M2.45168 6.10292c-.30177-.125-.62509-.18964-.95168-.1903V4.08678c.32693-.00053.6506-.06518.95267-.1903.30331-.12564.57891-.30979.81105-.54193.23215-.23215.4163-.50775.54194-.81106.12524-.30237.18989-.62638.19029-.95365H9.0902c0 .3283.06466.65339.1903.9567.12564.30331.30978.57891.54193.81106.23217.23215.50777.41629.81107.54193.3032.12558.6281.19024.9562.1903v1.83556c-.3242.00155-.6451.06616-.9448.19028-.3033.12563-.5789.30978-.81102.54193-.23215.23214-.4163.50774-.54193.81106-.12332.2977-.18789.61638-.19024.93849H3.99496c-.00071-.32645-.06535-.64961-.19029-.95124-.12564-.30332-.30979-.57891-.54193-.81106-.23215-.23215-.50775-.4163-.81106-.54193zM0 .589843C0 .313701.223858.0898438.5.0898438h12.0897c.2762 0 .5.2238572.5.5000002V9.40715c0 .27614-.2238.5-.5.5H.5c-.276143 0-.5-.22386-.5-.5V.589843zM6.54427 6.99849c1.10457 0 2-.89543 2-2s-.89543-2-2-2-2 .89543-2 2 .89543 2 2 2zm8.05523-2.69917v7.10958H2.75977c-.27615 0-.5.2238-.5.5v.5c0 .2761.22385.5.5.5H15.422c.4419 0 .6775-.2211.6775-.6629V4.29932c0-.27615-.2239-.5-.5-.5h-.5c-.2761 0-.5.22385-.5.5z\" fill=\"#595959\" fill-rule=\"evenodd\"></path></svg>$105,200 - $136,600 a year</div></div><div class=\"metadata\"><div class=\"attribute_snippet\"><svg aria-hidden=\"true\" aria-label=\"Job type\" fill=\"none\" height=\"13\" role=\"presentation\" viewbox=\"0 0 14 13\" width=\"14\" xmlns=\"http://www.w3.org/2000/svg\"><path clip-rule=\"evenodd\" d=\"M4.50226.5c-.27614 0-.5.223858-.5.5v2.1H.5c-.276142 0-.5.22386-.5.5v1.9h14V3.6c0-.27614-.2239-.5-.5-.5h-3.4977V1c0-.276142-.22389-.5-.50004-.5h-5Zm4.19962 2.6H5.30344V1.8h3.39844v1.3Z\" fill=\"#595959\" fill-rule=\"evenodd\"></path><path d=\"M5.70117 6.80005H0v5.20005c0 .2761.223857.5.5.5h13c.2761 0 .5-.2239.5-.5V6.80005H8.30117v.80322c0 .27614-.22386.5-.5.5h-1.6c-.27614 0-.5-.22386-.5-.5v-.80322Z\" fill=\"#595959\"></path></svg>Full-time</div></div></div><div class=\"heading6 error-text tapItem-gutter\"></div></td></tr></tbody></table><table class=\"jobCardShelfContainer big6_visualChanges\" role=\"presentation\"><tbody><tr class=\"jobCardShelf\"></tr><tr class=\"underShelfFooter\"><td><div class=\"heading6 tapItem-gutter result-footer\"><div class=\"job-snippet\"><ul style=\"list-style-type:circle;margin-top: 0px;margin-bottom: 0px;padding-left:20px;\">\n",
       " <li style=\"margin-bottom:0px;\">Experience with Python and data-frames.</li>\n",
       " <li>Proven understanding of a <b>data</b> visualization tool such as Mode Analytics, Tableau or Power BI.</li>\n",
       " </ul></div><span class=\"date\"><span class=\"visually-hidden\">Posted</span>6 days ago</span><span class=\"result-link-bar-separator\">·</span><button aria-expanded=\"false\" class=\"sl resultLink more_links_button\" type=\"button\">More...</button></div><div class=\"tab-container\"><div class=\"more-links-container result-tab\"><div class=\"more_links\"><button aria-label=\"Close\" class=\"close-button\" title=\"Close\" type=\"button\"></button><ul><li><span class=\"mat\">View all <a href=\"/q-Adobe-l-New-York,-NY-jobs.html\">Adobe jobs in New York, NY</a> - <a href=\"/l-New-York,-NY-jobs.html\">New York jobs</a></span></li><li><span class=\"mat\">Salary Search: <a href=\"/career/data-analyst/salaries/New-York--NY?campaignid=serp-more&amp;fromjk=6b86548fa4207a20&amp;from=serp-more\">Data Analyst salaries in New York, NY</a></span></li><li><span class=\"mat\">See popular <a href=\"/cmp/Adobe/faq\">questions &amp; answers about Adobe</a></span></li></ul></div></div></div></td></tr></tbody></table><div aria-live=\"polite\"></div></div>,\n",
       " <div class=\"job_seen_beacon\"><table cellpadding=\"0\" cellspacing=\"0\" class=\"jobCard_mainContent big6_visualChanges\" role=\"presentation\"><tbody><tr><td class=\"resultContent\"><div class=\"heading4 color-text-primary singleLineTitle tapItem-gutter\"><h2 class=\"jobTitle jobTitle-color-purple\" tabindex=\"-1\"><a aria-label=\"full details of Data Scientist\" class=\"jcs-JobTitle\" data-hide-spinner=\"true\" data-hiring-event=\"false\" data-jk=\"1636faa0308fd08f\" data-mobtk=\"1g50td1ggj5le800\" href=\"/rc/clk?jk=1636faa0308fd08f&amp;fccid=1577085fc2290983&amp;vjs=3\" id=\"job_1636faa0308fd08f\" role=\"button\" target=\"_blank\"><span id=\"jobTitle-1636faa0308fd08f\" title=\"Data Scientist\">Data Scientist</span></a></h2></div><div class=\"heading6 company_location tapItem-gutter companyInfo\"><span class=\"companyName\"><a class=\"turnstileLink companyOverviewLink\" data-tn-element=\"companyName\" href=\"/cmp/Source-Enterprises\" rel=\"noopener\" target=\"_blank\">Source Enterprises</a></span><span class=\"ratingsDisplay withRatingLink\"><a aria-label=\"Company rating 4.3 out of 5 stars\" class=\"ratingLink\" data-tn-variant=\"cmplinktst2\" href=\"/cmp/Source-Enterprises/reviews\" rel=\"noopener\" target=\"_blank\" title=\"Source Enterprises reviews\"><span aria-label=\"4.3 out of five stars rating\" class=\"ratingNumber\" role=\"img\"><span aria-hidden=\"true\">4.3</span><svg aria-hidden=\"true\" class=\"starIcon\" fill=\"none\" height=\"12\" role=\"presentation\" viewbox=\"0 0 16 16\" width=\"12\" xmlns=\"http://www.w3.org/2000/svg\"><path d=\"M8 12.8709L12.4542 15.5593C12.7807 15.7563 13.1835 15.4636 13.0968 15.0922L11.9148 10.0254L15.8505 6.61581C16.1388 6.36608 15.9847 5.89257 15.6047 5.86033L10.423 5.42072L8.39696 0.640342C8.24839 0.289808 7.7516 0.289808 7.60303 0.640341L5.57696 5.42072L0.395297 5.86033C0.015274 5.89257 -0.13882 6.36608 0.149443 6.61581L4.0852 10.0254L2.90318 15.0922C2.81653 15.4636 3.21932 15.7563 3.54584 15.5593L8 12.8709Z\" fill=\"#767676\"></path></svg></span></a></span><div class=\"companyLocation\">New York, NY 10036<!-- --> <span class=\"companyLocation--extras\">(<!-- -->Midtown area<!-- -->)</span></div></div><div class=\"heading6 tapItem-gutter metadataContainer noJEMChips salaryOnly\"><div class=\"metadata estimated-salary-container\"><span class=\"estimated-salary\"><svg aria-hidden=\"true\" aria-label=\"Estimated $33.4K to $42.2K a year\" fill=\"none\" role=\"presentation\" viewbox=\"0 0 16 13\" xmlns=\"http://www.w3.org/2000/svg\"><defs></defs><path clip-rule=\"evenodd\" d=\"M2.45168 6.10292c-.30177-.125-.62509-.18964-.95168-.1903V4.08678c.32693-.00053.6506-.06518.95267-.1903.30331-.12564.57891-.30979.81105-.54193.23215-.23215.4163-.50775.54194-.81106.12524-.30237.18989-.62638.19029-.95365H9.0902c0 .3283.06466.65339.1903.9567.12564.30331.30978.57891.54193.81106.23217.23215.50777.41629.81107.54193.3032.12558.6281.19024.9562.1903v1.83556c-.3242.00155-.6451.06616-.9448.19028-.3033.12563-.5789.30978-.81102.54193-.23215.23214-.4163.50774-.54193.81106-.12332.2977-.18789.61638-.19024.93849H3.99496c-.00071-.32645-.06535-.64961-.19029-.95124-.12564-.30332-.30979-.57891-.54193-.81106-.23215-.23215-.50775-.4163-.81106-.54193zM0 .589843C0 .313701.223858.0898438.5.0898438h12.0897c.2762 0 .5.2238572.5.5000002V9.40715c0 .27614-.2238.5-.5.5H.5c-.276143 0-.5-.22386-.5-.5V.589843zM6.54427 6.99849c1.10457 0 2-.89543 2-2s-.89543-2-2-2-2 .89543-2 2 .89543 2 2 2zm8.05523-2.69917v7.10958H2.75977c-.27615 0-.5.2238-.5.5v.5c0 .2761.22385.5.5.5H15.422c.4419 0 .6775-.2211.6775-.6629V4.29932c0-.27615-.2239-.5-.5-.5h-.5c-.2761 0-.5.22385-.5.5z\" fill=\"#595959\" fill-rule=\"evenodd\"></path></svg><span>Estimated $33.4K - $42.2K a year</span><button aria-haspopup=\"true\" aria-label=\"About Indeed's estimated salaries\" class=\"estimated-salary-legal-disclaimer-button\" type=\"button\"><img alt=\"\" aria-hidden=\"true\" class=\"estimated-salary-legal-disclaimer-icon\" src=\"https://c03.s3.indeed.com/mosaic-provider-jobcards/dist/images/src/components/JobMetaData/EstimatedSalary/QuestionCircle-901519.svg\"/></button></span></div><div class=\"metadata\"><div class=\"attribute_snippet\"><svg aria-hidden=\"true\" aria-label=\"Job type\" fill=\"none\" height=\"13\" role=\"presentation\" viewbox=\"0 0 14 13\" width=\"14\" xmlns=\"http://www.w3.org/2000/svg\"><path clip-rule=\"evenodd\" d=\"M4.50226.5c-.27614 0-.5.223858-.5.5v2.1H.5c-.276142 0-.5.22386-.5.5v1.9h14V3.6c0-.27614-.2239-.5-.5-.5h-3.4977V1c0-.276142-.22389-.5-.50004-.5h-5Zm4.19962 2.6H5.30344V1.8h3.39844v1.3Z\" fill=\"#595959\" fill-rule=\"evenodd\"></path><path d=\"M5.70117 6.80005H0v5.20005c0 .2761.223857.5.5.5h13c.2761 0 .5-.2239.5-.5V6.80005H8.30117v.80322c0 .27614-.22386.5-.5.5h-1.6c-.27614 0-.5-.22386-.5-.5v-.80322Z\" fill=\"#595959\"></path></svg>Part-time<span class=\"more-items\"> +<!-- -->1</span></div></div></div><div class=\"heading6 error-text tapItem-gutter\"></div></td></tr></tbody></table><table class=\"jobCardShelfContainer big6_visualChanges\" role=\"presentation\"><tbody><tr class=\"jobCardShelf\"></tr><tr class=\"underShelfFooter\"><td><div class=\"heading6 tapItem-gutter result-footer\"><div class=\"job-snippet\"><ul style=\"list-style-type:circle;margin-top: 0px;margin-bottom: 0px;padding-left:20px;\">\n",
       " <li style=\"margin-bottom:0px;\">Some knowledge of common <b>data</b> <b>science</b> toolkits, such as R, Weka, NumPy, MatLab, etc.</li>\n",
       " <li>Stay current on modern trends and advances in <b>data</b> mining technology.</li>\n",
       " </ul></div><span class=\"date\"><span class=\"visually-hidden\">Posted</span>30+ days ago</span><span class=\"result-link-bar-separator\">·</span><button aria-expanded=\"false\" class=\"sl resultLink more_links_button\" type=\"button\">More...</button></div><div class=\"tab-container\"><div class=\"more-links-container result-tab\"><div class=\"more_links\"><button aria-label=\"Close\" class=\"close-button\" title=\"Close\" type=\"button\"></button><ul><li><span class=\"mat\">View all <a href=\"/q-Source-Enterprises-l-New-York,-NY-jobs.html\">Source Enterprises jobs in New York, NY</a> - <a href=\"/l-New-York,-NY-jobs.html\">New York jobs</a></span></li><li><span class=\"mat\">Salary Search: <a href=\"/career/data-scientist/salaries/New-York--NY?campaignid=serp-more&amp;fromjk=1636faa0308fd08f&amp;from=serp-more\">Data Scientist salaries in New York, NY</a></span></li></ul></div></div></div></td></tr></tbody></table><div aria-live=\"polite\"></div></div>,\n",
       " <div class=\"job_seen_beacon\"><table cellpadding=\"0\" cellspacing=\"0\" class=\"jobCard_mainContent big6_visualChanges\" role=\"presentation\"><tbody><tr><td class=\"resultContent\"><div class=\"heading4 color-text-primary singleLineTitle tapItem-gutter\"><h2 class=\"jobTitle jobTitle-color-purple\" tabindex=\"-1\"><a aria-label=\"full details of Data Analyst\" class=\"jcs-JobTitle\" data-hide-spinner=\"true\" data-hiring-event=\"false\" data-jk=\"51494a0a3e768b07\" data-mobtk=\"1g50td1ggj5le800\" href=\"/rc/clk?jk=51494a0a3e768b07&amp;fccid=448951d0ddf03e0c&amp;vjs=3\" id=\"job_51494a0a3e768b07\" role=\"button\" target=\"_blank\"><span id=\"jobTitle-51494a0a3e768b07\" title=\"Data Analyst\">Data Analyst</span></a></h2></div><div class=\"heading6 company_location tapItem-gutter companyInfo\"><span class=\"companyName\"><a class=\"turnstileLink companyOverviewLink\" data-tn-element=\"companyName\" href=\"/cmp/Datadog\" rel=\"noopener\" target=\"_blank\">DataDog</a></span><span class=\"ratingsDisplay withRatingLink\"><a aria-label=\"Company rating 4 out of 5 stars\" class=\"ratingLink\" data-tn-variant=\"cmplinktst2\" href=\"/cmp/Datadog/reviews\" rel=\"noopener\" target=\"_blank\" title=\"DataDog reviews\"><span aria-label=\"4.0 out of five stars rating\" class=\"ratingNumber\" role=\"img\"><span aria-hidden=\"true\">4.0</span><svg aria-hidden=\"true\" class=\"starIcon\" fill=\"none\" height=\"12\" role=\"presentation\" viewbox=\"0 0 16 16\" width=\"12\" xmlns=\"http://www.w3.org/2000/svg\"><path d=\"M8 12.8709L12.4542 15.5593C12.7807 15.7563 13.1835 15.4636 13.0968 15.0922L11.9148 10.0254L15.8505 6.61581C16.1388 6.36608 15.9847 5.89257 15.6047 5.86033L10.423 5.42072L8.39696 0.640342C8.24839 0.289808 7.7516 0.289808 7.60303 0.640341L5.57696 5.42072L0.395297 5.86033C0.015274 5.89257 -0.13882 6.36608 0.149443 6.61581L4.0852 10.0254L2.90318 15.0922C2.81653 15.4636 3.21932 15.7563 3.54584 15.5593L8 12.8709Z\" fill=\"#767676\"></path></svg></span></a></span><div class=\"companyLocation\">New York, NY</div></div><div class=\"heading6 tapItem-gutter metadataContainer noJEMChips salaryOnly\"><div class=\"metadata estimated-salary-container\"><span class=\"estimated-salary\"><svg aria-hidden=\"true\" aria-label=\"Estimated $41.9K to $53.1K a year\" fill=\"none\" role=\"presentation\" viewbox=\"0 0 16 13\" xmlns=\"http://www.w3.org/2000/svg\"><defs></defs><path clip-rule=\"evenodd\" d=\"M2.45168 6.10292c-.30177-.125-.62509-.18964-.95168-.1903V4.08678c.32693-.00053.6506-.06518.95267-.1903.30331-.12564.57891-.30979.81105-.54193.23215-.23215.4163-.50775.54194-.81106.12524-.30237.18989-.62638.19029-.95365H9.0902c0 .3283.06466.65339.1903.9567.12564.30331.30978.57891.54193.81106.23217.23215.50777.41629.81107.54193.3032.12558.6281.19024.9562.1903v1.83556c-.3242.00155-.6451.06616-.9448.19028-.3033.12563-.5789.30978-.81102.54193-.23215.23214-.4163.50774-.54193.81106-.12332.2977-.18789.61638-.19024.93849H3.99496c-.00071-.32645-.06535-.64961-.19029-.95124-.12564-.30332-.30979-.57891-.54193-.81106-.23215-.23215-.50775-.4163-.81106-.54193zM0 .589843C0 .313701.223858.0898438.5.0898438h12.0897c.2762 0 .5.2238572.5.5000002V9.40715c0 .27614-.2238.5-.5.5H.5c-.276143 0-.5-.22386-.5-.5V.589843zM6.54427 6.99849c1.10457 0 2-.89543 2-2s-.89543-2-2-2-2 .89543-2 2 .89543 2 2 2zm8.05523-2.69917v7.10958H2.75977c-.27615 0-.5.2238-.5.5v.5c0 .2761.22385.5.5.5H15.422c.4419 0 .6775-.2211.6775-.6629V4.29932c0-.27615-.2239-.5-.5-.5h-.5c-.2761 0-.5.22385-.5.5z\" fill=\"#595959\" fill-rule=\"evenodd\"></path></svg><span>Estimated $41.9K - $53.1K a year</span><button aria-haspopup=\"true\" aria-label=\"About Indeed's estimated salaries\" class=\"estimated-salary-legal-disclaimer-button\" type=\"button\"><img alt=\"\" aria-hidden=\"true\" class=\"estimated-salary-legal-disclaimer-icon\" src=\"https://c03.s3.indeed.com/mosaic-provider-jobcards/dist/images/src/components/JobMetaData/EstimatedSalary/QuestionCircle-901519.svg\"/></button></span></div><div class=\"metadata\"><div class=\"attribute_snippet\"><svg aria-hidden=\"true\" aria-label=\"Job type\" fill=\"none\" height=\"13\" role=\"presentation\" viewbox=\"0 0 14 13\" width=\"14\" xmlns=\"http://www.w3.org/2000/svg\"><path clip-rule=\"evenodd\" d=\"M4.50226.5c-.27614 0-.5.223858-.5.5v2.1H.5c-.276142 0-.5.22386-.5.5v1.9h14V3.6c0-.27614-.2239-.5-.5-.5h-3.4977V1c0-.276142-.22389-.5-.50004-.5h-5Zm4.19962 2.6H5.30344V1.8h3.39844v1.3Z\" fill=\"#595959\" fill-rule=\"evenodd\"></path><path d=\"M5.70117 6.80005H0v5.20005c0 .2761.223857.5.5.5h13c.2761 0 .5-.2239.5-.5V6.80005H8.30117v.80322c0 .27614-.22386.5-.5.5h-1.6c-.27614 0-.5-.22386-.5-.5v-.80322Z\" fill=\"#595959\"></path></svg>Internship</div></div></div><div class=\"heading6 error-text tapItem-gutter\"></div></td></tr></tbody></table><table class=\"jobCardShelfContainer big6_visualChanges\" role=\"presentation\"><tbody><tr class=\"jobCardShelf\"></tr><tr class=\"underShelfFooter\"><td><div class=\"heading6 tapItem-gutter result-footer\"><div class=\"job-snippet\"><ul style=\"list-style-type:circle;margin-top: 0px;margin-bottom: 0px;padding-left:20px;\">\n",
       " <li>Distill that <b>data</b> to concise insights and communicate the findings to Product, Engineering, Design, Marketing, and Community to help them tell a data-driven…</li>\n",
       " </ul></div><span class=\"date\"><span class=\"visually-hidden\">Posted</span>29 days ago</span><span class=\"result-link-bar-separator\">·</span><button aria-expanded=\"false\" class=\"sl resultLink more_links_button\" type=\"button\">More...</button></div><div class=\"tab-container\"><div class=\"more-links-container result-tab\"><div class=\"more_links\"><button aria-label=\"Close\" class=\"close-button\" title=\"Close\" type=\"button\"></button><ul><li><span class=\"mat\">View all <a href=\"/q-Datadog-l-New-York,-NY-jobs.html\">DataDog jobs in New York, NY</a> - <a href=\"/l-New-York,-NY-jobs.html\">New York jobs</a></span></li><li><span class=\"mat\">Salary Search: <a href=\"/career/data-analyst/salaries/New-York--NY?campaignid=serp-more&amp;fromjk=51494a0a3e768b07&amp;from=serp-more\">Data Analyst salaries in New York, NY</a></span></li><li><span class=\"mat\">See popular <a href=\"/cmp/Datadog/faq\">questions &amp; answers about DataDog</a></span></li></ul></div></div></div></td></tr></tbody></table><div aria-live=\"polite\"></div></div>]"
      ]
     },
     "execution_count": 67,
     "metadata": {},
     "output_type": "execute_result"
    }
   ],
   "source": [
    "lol"
   ]
  },
  {
   "cell_type": "code",
   "execution_count": null,
   "id": "fd3c61cc",
   "metadata": {},
   "outputs": [],
   "source": []
  },
  {
   "cell_type": "code",
   "execution_count": null,
   "id": "e62f03c2",
   "metadata": {},
   "outputs": [],
   "source": []
  },
  {
   "cell_type": "code",
   "execution_count": null,
   "id": "d1cf5870",
   "metadata": {},
   "outputs": [],
   "source": [
    "### FOR OUR ACTUAL HEROKUAPP"
   ]
  },
  {
   "cell_type": "code",
   "execution_count": 60,
   "id": "0c221505",
   "metadata": {},
   "outputs": [],
   "source": [
    "user_job = \"Data Science\"\n",
    "user_location = \"New York\"\n",
    "\n",
    "user_job = user_job.replace(\" \", \"%20\")\n",
    "user_location = user_location.replace(\" \", \"%20\")\n",
    "\n",
    "current_url = f\"https://www.indeed.com/jobs?q={user_job}&l={user_location}\""
   ]
  },
  {
   "cell_type": "code",
   "execution_count": 61,
   "id": "58a56dc8",
   "metadata": {
    "scrolled": true
   },
   "outputs": [
    {
     "data": {
      "text/plain": [
       "'https://www.indeed.com/jobs?q=Data%20Science&l=New%20York'"
      ]
     },
     "execution_count": 61,
     "metadata": {},
     "output_type": "execute_result"
    }
   ],
   "source": [
    "current_url"
   ]
  },
  {
   "cell_type": "code",
   "execution_count": 55,
   "id": "0b447bc8",
   "metadata": {},
   "outputs": [
    {
     "data": {
      "text/html": [
       "<div>\n",
       "<style scoped>\n",
       "    .dataframe tbody tr th:only-of-type {\n",
       "        vertical-align: middle;\n",
       "    }\n",
       "\n",
       "    .dataframe tbody tr th {\n",
       "        vertical-align: top;\n",
       "    }\n",
       "\n",
       "    .dataframe thead th {\n",
       "        text-align: right;\n",
       "    }\n",
       "</style>\n",
       "<table border=\"1\" class=\"dataframe\">\n",
       "  <thead>\n",
       "    <tr style=\"text-align: right;\">\n",
       "      <th></th>\n",
       "      <th>job_title</th>\n",
       "      <th>company</th>\n",
       "      <th>rating</th>\n",
       "      <th>location</th>\n",
       "      <th>date</th>\n",
       "      <th>job_desc</th>\n",
       "      <th>job_link</th>\n",
       "    </tr>\n",
       "  </thead>\n",
       "  <tbody>\n",
       "    <tr>\n",
       "      <th>0</th>\n",
       "      <td>Data Scientist, Spotify Advertising</td>\n",
       "      <td>Spotify</td>\n",
       "      <td>4.3</td>\n",
       "      <td>Remote in New York, NY+7 locations</td>\n",
       "      <td>30+ days ago</td>\n",
       "      <td>You have experience in a similar data science ...</td>\n",
       "      <td>https://www.indeed.com/rc/clk?jk=cf1dfad666491...</td>\n",
       "    </tr>\n",
       "    <tr>\n",
       "      <th>1</th>\n",
       "      <td>Data Scientist - Data Science (All Levels)</td>\n",
       "      <td>Datadog</td>\n",
       "      <td>4.0</td>\n",
       "      <td>Hybrid remote in New York, NY+3 locations</td>\n",
       "      <td>26 days ago</td>\n",
       "      <td>You have experience working with data and buil...</td>\n",
       "      <td>https://www.indeed.com/rc/clk?jk=3f72ccd78579c...</td>\n",
       "    </tr>\n",
       "    <tr>\n",
       "      <th>2</th>\n",
       "      <td>Data Scientist</td>\n",
       "      <td>Nike</td>\n",
       "      <td>4.1</td>\n",
       "      <td>New York, NY</td>\n",
       "      <td>6 days ago</td>\n",
       "      <td>Identify meaningful insights from large data a...</td>\n",
       "      <td>https://www.indeed.com/rc/clk?jk=f4f924ccdcaf1...</td>\n",
       "    </tr>\n",
       "    <tr>\n",
       "      <th>3</th>\n",
       "      <td>Data Science Rotation Program Associate</td>\n",
       "      <td>New York Life Insurance Co</td>\n",
       "      <td>3.7</td>\n",
       "      <td>New York, NY+1 location</td>\n",
       "      <td>30+ days ago</td>\n",
       "      <td>You will be inspired to strengthen other criti...</td>\n",
       "      <td>https://www.indeed.com/rc/clk?jk=61c19d3402d03...</td>\n",
       "    </tr>\n",
       "    <tr>\n",
       "      <th>4</th>\n",
       "      <td>Data Scientist</td>\n",
       "      <td>Source Enterprises</td>\n",
       "      <td>4.3</td>\n",
       "      <td>New York, NY 10036 (Midtown area)</td>\n",
       "      <td>30+ days ago</td>\n",
       "      <td>Some knowledge of common data science toolkits...</td>\n",
       "      <td>https://www.indeed.com/rc/clk?jk=1636faa0308fd...</td>\n",
       "    </tr>\n",
       "    <tr>\n",
       "      <th>5</th>\n",
       "      <td>Data Scientist</td>\n",
       "      <td>Signifyd</td>\n",
       "      <td>4.1</td>\n",
       "      <td>Remote in New York, NY</td>\n",
       "      <td>5 days ago</td>\n",
       "      <td>Work with distributed data pipelines.\\nDesign ...</td>\n",
       "      <td>https://www.indeed.com/company/Signifyd/jobs/D...</td>\n",
       "    </tr>\n",
       "    <tr>\n",
       "      <th>6</th>\n",
       "      <td>Data Analyst</td>\n",
       "      <td>DataDog</td>\n",
       "      <td>4.0</td>\n",
       "      <td>New York, NY</td>\n",
       "      <td>28 days ago</td>\n",
       "      <td>Distill that data to concise insights and comm...</td>\n",
       "      <td>https://www.indeed.com/rc/clk?jk=51494a0a3e768...</td>\n",
       "    </tr>\n",
       "    <tr>\n",
       "      <th>7</th>\n",
       "      <td>Data Scientist - Analytics</td>\n",
       "      <td>Twitch</td>\n",
       "      <td>4.4</td>\n",
       "      <td>Remote in New York, NY 10011</td>\n",
       "      <td>30+ days ago</td>\n",
       "      <td>5+ years of experience as a data scientist or ...</td>\n",
       "      <td>https://www.indeed.com/rc/clk?jk=437bdb20ea775...</td>\n",
       "    </tr>\n",
       "    <tr>\n",
       "      <th>8</th>\n",
       "      <td>Head of Advertising &amp; Marketing - Data Science</td>\n",
       "      <td>Amazon Web Services, Inc.</td>\n",
       "      <td>3.5</td>\n",
       "      <td>New York, NY+1 location</td>\n",
       "      <td>30+ days ago</td>\n",
       "      <td>Experience with applying CI/CD principles to d...</td>\n",
       "      <td>https://www.indeed.com/rc/clk?jk=6d1ef76bf3b23...</td>\n",
       "    </tr>\n",
       "  </tbody>\n",
       "</table>\n",
       "</div>"
      ],
      "text/plain": [
       "                                        job_title                     company  \\\n",
       "0             Data Scientist, Spotify Advertising                     Spotify   \n",
       "1      Data Scientist - Data Science (All Levels)                     Datadog   \n",
       "2                                  Data Scientist                        Nike   \n",
       "3         Data Science Rotation Program Associate  New York Life Insurance Co   \n",
       "4                                  Data Scientist          Source Enterprises   \n",
       "5                                  Data Scientist                    Signifyd   \n",
       "6                                    Data Analyst                     DataDog   \n",
       "7                      Data Scientist - Analytics                      Twitch   \n",
       "8  Head of Advertising & Marketing - Data Science   Amazon Web Services, Inc.   \n",
       "\n",
       "  rating                                   location          date  \\\n",
       "0    4.3         Remote in New York, NY+7 locations  30+ days ago   \n",
       "1    4.0  Hybrid remote in New York, NY+3 locations   26 days ago   \n",
       "2    4.1                               New York, NY    6 days ago   \n",
       "3    3.7                    New York, NY+1 location  30+ days ago   \n",
       "4    4.3          New York, NY 10036 (Midtown area)  30+ days ago   \n",
       "5    4.1                     Remote in New York, NY    5 days ago   \n",
       "6    4.0                               New York, NY   28 days ago   \n",
       "7    4.4               Remote in New York, NY 10011  30+ days ago   \n",
       "8    3.5                    New York, NY+1 location  30+ days ago   \n",
       "\n",
       "                                            job_desc  \\\n",
       "0  You have experience in a similar data science ...   \n",
       "1  You have experience working with data and buil...   \n",
       "2  Identify meaningful insights from large data a...   \n",
       "3  You will be inspired to strengthen other criti...   \n",
       "4  Some knowledge of common data science toolkits...   \n",
       "5  Work with distributed data pipelines.\\nDesign ...   \n",
       "6  Distill that data to concise insights and comm...   \n",
       "7  5+ years of experience as a data scientist or ...   \n",
       "8  Experience with applying CI/CD principles to d...   \n",
       "\n",
       "                                            job_link  \n",
       "0  https://www.indeed.com/rc/clk?jk=cf1dfad666491...  \n",
       "1  https://www.indeed.com/rc/clk?jk=3f72ccd78579c...  \n",
       "2  https://www.indeed.com/rc/clk?jk=f4f924ccdcaf1...  \n",
       "3  https://www.indeed.com/rc/clk?jk=61c19d3402d03...  \n",
       "4  https://www.indeed.com/rc/clk?jk=1636faa0308fd...  \n",
       "5  https://www.indeed.com/company/Signifyd/jobs/D...  \n",
       "6  https://www.indeed.com/rc/clk?jk=51494a0a3e768...  \n",
       "7  https://www.indeed.com/rc/clk?jk=437bdb20ea775...  \n",
       "8  https://www.indeed.com/rc/clk?jk=6d1ef76bf3b23...  "
      ]
     },
     "execution_count": 55,
     "metadata": {},
     "output_type": "execute_result"
    }
   ],
   "source": [
    "lol"
   ]
  },
  {
   "cell_type": "code",
   "execution_count": 14,
   "id": "9b1fb3e6",
   "metadata": {
    "scrolled": true
   },
   "outputs": [
    {
     "data": {
      "text/plain": [
       "'https://www.indeed.com/rc/clk?jk=ba6f99e6f2792075&fccid=f2d0ffe36bb2f0f4&vjs=3'"
      ]
     },
     "execution_count": 14,
     "metadata": {},
     "output_type": "execute_result"
    }
   ],
   "source": [
    "lol.iloc[6][\"job_link\"]"
   ]
  },
  {
   "cell_type": "code",
   "execution_count": 57,
   "id": "38a25fe6",
   "metadata": {},
   "outputs": [],
   "source": [
    "table = lol.to_html()"
   ]
  },
  {
   "cell_type": "code",
   "execution_count": null,
   "id": "db448cb4",
   "metadata": {},
   "outputs": [],
   "source": [
    "### forces download\n",
    "# text_file = open(\"index.html\", \"w\")\n",
    "# text_file.write(html)\n",
    "# text_file.close()"
   ]
  },
  {
   "cell_type": "code",
   "execution_count": 58,
   "id": "21057ca7",
   "metadata": {},
   "outputs": [],
   "source": [
    "table = table.replace(\"\\n\", \"\")"
   ]
  },
  {
   "cell_type": "code",
   "execution_count": 59,
   "id": "5820ddff",
   "metadata": {},
   "outputs": [
    {
     "data": {
      "text/plain": [
       "'<table border=\"1\" class=\"dataframe\">  <thead>    <tr style=\"text-align: right;\">      <th></th>      <th>job_title</th>      <th>company</th>      <th>rating</th>      <th>location</th>      <th>date</th>      <th>job_desc</th>      <th>job_link</th>    </tr>  </thead>  <tbody>    <tr>      <th>0</th>      <td>Data Scientist, Spotify Advertising</td>      <td>Spotify</td>      <td>4.3</td>      <td>Remote in New York, NY+7 locations</td>      <td>30+ days ago</td>      <td>You have experience in a similar data science role and a degree in science, computer science, statistics, economics, mathematics, or similar quantitative…</td>      <td>https://www.indeed.com/rc/clk?jk=cf1dfad66649138a&amp;fccid=fe404d18bb9eef1e&amp;vjs=3</td>    </tr>    <tr>      <th>1</th>      <td>Data Scientist - Data Science (All Levels)</td>      <td>Datadog</td>      <td>4.0</td>      <td>Hybrid remote in New York, NY+3 locations</td>      <td>26 days ago</td>      <td>You have experience working with data and building models, and applying machine learning to real business problems.</td>      <td>https://www.indeed.com/rc/clk?jk=3f72ccd78579cf4c&amp;fccid=448951d0ddf03e0c&amp;vjs=3</td>    </tr>    <tr>      <th>2</th>      <td>Data Scientist</td>      <td>Nike</td>      <td>4.1</td>      <td>New York, NY</td>      <td>6 days ago</td>      <td>Identify meaningful insights from large data and metadata sources.\\\\nUse best practices and data of internal or external business issues to improve products or…</td>      <td>https://www.indeed.com/rc/clk?jk=f4f924ccdcaf1822&amp;fccid=2c62e4de04b8f952&amp;vjs=3</td>    </tr>    <tr>      <th>3</th>      <td>Data Science Rotation Program Associate</td>      <td>New York Life Insurance Co</td>      <td>3.7</td>      <td>New York, NY+1 location</td>      <td>30+ days ago</td>      <td>You will be inspired to strengthen other critical components of being an effective data scientist ranging from soft skills (concisely presenting a data story,…</td>      <td>https://www.indeed.com/rc/clk?jk=61c19d3402d0300b&amp;fccid=f0595ebb13247329&amp;vjs=3</td>    </tr>    <tr>      <th>4</th>      <td>Data Scientist</td>      <td>Source Enterprises</td>      <td>4.3</td>      <td>New York, NY 10036 (Midtown area)</td>      <td>30+ days ago</td>      <td>Some knowledge of common data science toolkits, such as R, Weka, NumPy, MatLab, etc.\\\\nStay current on modern trends and advances in data mining technology.</td>      <td>https://www.indeed.com/rc/clk?jk=1636faa0308fd08f&amp;fccid=1577085fc2290983&amp;vjs=3</td>    </tr>    <tr>      <th>5</th>      <td>Data Scientist</td>      <td>Signifyd</td>      <td>4.1</td>      <td>Remote in New York, NY</td>      <td>5 days ago</td>      <td>Work with distributed data pipelines.\\\\nDesign experiments and collect data.\\\\nA degree in computer science or a comparable analytical field.</td>      <td>https://www.indeed.com/company/Signifyd/jobs/Data-Scientist-3f1cb623a08c6497?fccid=fb39f30bde31b5f4&amp;vjs=3</td>    </tr>    <tr>      <th>6</th>      <td>Data Analyst</td>      <td>DataDog</td>      <td>4.0</td>      <td>New York, NY</td>      <td>28 days ago</td>      <td>Distill that data to concise insights and communicate the findings to Product, Engineering, Design, Marketing, and Community to help them tell a data-driven…</td>      <td>https://www.indeed.com/rc/clk?jk=51494a0a3e768b07&amp;fccid=448951d0ddf03e0c&amp;vjs=3</td>    </tr>    <tr>      <th>7</th>      <td>Data Scientist - Analytics</td>      <td>Twitch</td>      <td>4.4</td>      <td>Remote in New York, NY 10011</td>      <td>30+ days ago</td>      <td>5+ years of experience as a data scientist or data analyst in a high-velocity environment.\\\\nExperience building aggregates and optimizing data workstreams.</td>      <td>https://www.indeed.com/rc/clk?jk=437bdb20ea775bcd&amp;fccid=e21f6affbb4bb0b2&amp;vjs=3</td>    </tr>    <tr>      <th>8</th>      <td>Head of Advertising &amp; Marketing - Data Science</td>      <td>Amazon Web Services, Inc.</td>      <td>3.5</td>      <td>New York, NY+1 location</td>      <td>30+ days ago</td>      <td>Experience with applying CI/CD principles to data science projects.\\\\n3 years delivering data science / machine learning solutions in a cloud environment.</td>      <td>https://www.indeed.com/rc/clk?jk=6d1ef76bf3b236f6&amp;fccid=5cc0cdc6dbb121cc&amp;vjs=3</td>    </tr>  </tbody></table>'"
      ]
     },
     "execution_count": 59,
     "metadata": {},
     "output_type": "execute_result"
    }
   ],
   "source": [
    "table"
   ]
  }
 ],
 "metadata": {
  "kernelspec": {
   "display_name": "Python 3 (ipykernel)",
   "language": "python",
   "name": "python3"
  },
  "language_info": {
   "codemirror_mode": {
    "name": "ipython",
    "version": 3
   },
   "file_extension": ".py",
   "mimetype": "text/x-python",
   "name": "python",
   "nbconvert_exporter": "python",
   "pygments_lexer": "ipython3",
   "version": "3.9.11"
  }
 },
 "nbformat": 4,
 "nbformat_minor": 5
}
